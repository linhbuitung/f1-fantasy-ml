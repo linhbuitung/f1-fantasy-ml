{
 "cells": [
  {
   "cell_type": "markdown",
   "id": "18b0a525-6f52-4567-9c79-c733ab7d5901",
   "metadata": {},
   "source": [
    "<h2>Formula 1 Grand Prix status prediction</h2>"
   ]
  },
  {
   "cell_type": "code",
   "execution_count": 74,
   "id": "48e1dea0-9ff1-4422-8034-9f7e4c08c1ec",
   "metadata": {
    "ExecuteTime": {
     "end_time": "2025-04-29T11:03:06.009663Z",
     "start_time": "2025-04-29T11:03:06.004508Z"
    }
   },
   "outputs": [],
   "source": [
    "import pandas as pd\n",
    "import numpy as np\n",
    "import matplotlib.pyplot as plt\n",
    "import seaborn as sns\n",
    "import pickle\n",
    "import re\n",
    "from sklearn.compose import ColumnTransformer\n",
    "from sklearn.pipeline import Pipeline\n",
    "from sklearn.preprocessing import StandardScaler,LabelEncoder,OneHotEncoder\n",
    "from sklearn.model_selection import cross_val_score,StratifiedKFold,RandomizedSearchCV,train_test_split,KFold,GridSearchCV\n",
    "from sklearn.linear_model import LinearRegression, LogisticRegression\n",
    "from sklearn.ensemble import RandomForestRegressor,  GradientBoostingRegressor,RandomForestClassifier\n",
    "from sklearn.neural_network import MLPRegressor\n",
    "from sklearn.svm import SVC\n",
    "from sklearn.naive_bayes import GaussianNB\n",
    "from sklearn.metrics import classification_report, confusion_matrix, roc_auc_score\n",
    "import pickle\n",
    "\n",
    "\n",
    "plt.style.use('bmh')\n",
    "pd.set_option('display.float_format', '{:.2f}'.format)"
   ]
  },
  {
   "cell_type": "markdown",
   "id": "08e4e060",
   "metadata": {},
   "source": [
    "<h3>Data cleaning</h3>"
   ]
  },
  {
   "cell_type": "code",
   "execution_count": 75,
   "id": "6ed71c87-3a20-4aab-b31a-fd226203245e",
   "metadata": {
    "ExecuteTime": {
     "end_time": "2025-04-29T11:03:06.771764Z",
     "start_time": "2025-04-29T11:03:06.458069Z"
    }
   },
   "outputs": [],
   "source": [
    "results = pd.read_csv(r'data/results.csv')\n",
    "races = pd.read_csv(r'data/races.csv')\n",
    "qualifyings = pd.read_csv(r'data/qualifying.csv')\n",
    "drivers = pd.read_csv(r'data/drivers.csv')\n",
    "constructors = pd.read_csv(r'data/constructors.csv')\n",
    "circuits = pd.read_csv(r'data/circuits.csv')\n",
    "status = pd.read_csv(r'data/status.csv')\n",
    "laptimes = pd.read_csv(r'data/lap_times.csv')\n",
    "\n",
    "\n",
    "countries = pd.read_csv(r'data/countries/countries.csv')"
   ]
  },
  {
   "cell_type": "code",
   "execution_count": 76,
   "id": "c9b2a28b",
   "metadata": {
    "ExecuteTime": {
     "end_time": "2025-04-29T11:03:07.573181Z",
     "start_time": "2025-04-29T11:03:06.772858Z"
    }
   },
   "outputs": [],
   "source": [
    "df1 = pd.merge(races,results,how='left',on=['raceId'], suffixes=('_race', '_result'))\n",
    "#f2 = pd.merge(df1,qualifyings,how='left',on=['raceId','driverId','constructorId'], suffixes=('', '_qualifying'))\n",
    "df3 = pd.merge(df1,drivers,how='left',on=['driverId'], suffixes=('', '_driver'))\n",
    "df4 = pd.merge(df3,constructors,how='left',on=['constructorId'], suffixes=('', '_constructor'))\n",
    "df5 = pd.merge(df4,circuits,how='left',on=['circuitId'], suffixes=('', '_circuit'))\n",
    "df6 = pd.merge(df5,status,how='left',on=['statusId'], suffixes=('', '_status'))\n",
    "df7 = pd.merge(df6,laptimes,how='left',on=['raceId','driverId'], suffixes=('', '_laptime'))"
   ]
  },
  {
   "cell_type": "code",
   "execution_count": 77,
   "id": "eb7a858b",
   "metadata": {
    "ExecuteTime": {
     "end_time": "2025-04-29T11:03:07.667829Z",
     "start_time": "2025-04-29T11:03:07.574442Z"
    }
   },
   "outputs": [],
   "source": [
    "\n",
    "data = df7;\n",
    "#drop the columns which are not important\n",
    "\n",
    "\n",
    "data = data.drop(['raceId',  'round', 'circuitId', 'name', 'time_race',\n",
    "       'url', 'fp1_date', 'fp1_time', 'fp2_date', 'fp2_time', 'fp3_date',\n",
    "       'fp3_time', 'quali_date', 'quali_time', 'sprint_date', 'sprint_time',\n",
    "       'resultId', 'constructorId', 'number',  'position',\n",
    "       'positionText','positionOrder', 'points', 'time_result',\n",
    "        'fastestLap', 'rank', 'fastestLapTime',\n",
    "       'fastestLapSpeed', 'statusId',  'driverRef', 'number_driver',\n",
    "       'code',   'url_driver',\n",
    "       'constructorRef', \n",
    "       'url_constructor', 'circuitRef',  'location',\n",
    "       'lat', 'lng', 'alt', 'url_circuit', 'lap', 'position_laptime','time'\n",
    "      ],axis=1)"
   ]
  },
  {
   "cell_type": "code",
   "execution_count": 78,
   "id": "11268b05",
   "metadata": {
    "ExecuteTime": {
     "end_time": "2025-04-29T11:03:07.710046Z",
     "start_time": "2025-04-29T11:03:07.669108Z"
    }
   },
   "outputs": [
    {
     "data": {
      "text/plain": "        year      date weather  driverId  grid  laps milliseconds forename  \\\n0       1950  13-05-50     NaN       642     1    70      8003600     Nino   \n1       1950  13-05-50     NaN       786     2    70      8006200    Luigi   \n2       1950  13-05-50     NaN       686     4    70      8055600      Reg   \n3       1950  13-05-50     NaN       704     6    68           \\N     Yves   \n4       1950  13-05-50     NaN       627     9    68           \\N    Louis   \n...      ...       ...     ...       ...   ...   ...          ...      ...   \n604794  2024  08-12-24   Night       861    20    26           \\N   Franco   \n604795  2024  08-12-24   Night       861    20    26           \\N   Franco   \n604796  2024  08-12-24   Night       861    20    26           \\N   Franco   \n604797  2024  08-12-24   Night       861    20    26           \\N   Franco   \n604798  2024  08-12-24   Night       815    10     0           \\N   Sergio   \n\n          surname         dob  nationality name_constructor  \\\n0          Farina  1906-10-30      Italian       Alfa Romeo   \n1         Fagioli  1898-06-09      Italian       Alfa Romeo   \n2         Parnell  1911-07-02      British       Alfa Romeo   \n3       Cabantous  1904-10-08       French      Talbot-Lago   \n4          Rosier  1905-11-05       French      Talbot-Lago   \n...           ...         ...          ...              ...   \n604794  Colapinto  2003-05-27  Argentinian         Williams   \n604795  Colapinto  2003-05-27  Argentinian         Williams   \n604796  Colapinto  2003-05-27  Argentinian         Williams   \n604797  Colapinto  2003-05-27  Argentinian         Williams   \n604798      Pérez  1990-01-26      Mexican         Red Bull   \n\n       nationality_constructor         name_circuit country          type  \\\n0                        Swiss  Silverstone Circuit      UK  Race circuit   \n1                        Swiss  Silverstone Circuit      UK  Race circuit   \n2                        Swiss  Silverstone Circuit      UK  Race circuit   \n3                       French  Silverstone Circuit      UK  Race circuit   \n4                       French  Silverstone Circuit      UK  Race circuit   \n...                        ...                  ...     ...           ...   \n604794                 British   Yas Marina Circuit     UAE  Race circuit   \n604795                 British   Yas Marina Circuit     UAE  Race circuit   \n604796                 British   Yas Marina Circuit     UAE  Race circuit   \n604797                 British   Yas Marina Circuit     UAE  Race circuit   \n604798                Austrian   Yas Marina Circuit     UAE  Race circuit   \n\n           status  milliseconds_laptime  \n0        Finished                   NaN  \n1        Finished                   NaN  \n2        Finished                   NaN  \n3         +2 Laps                   NaN  \n4         +2 Laps                   NaN  \n...           ...                   ...  \n604794     Engine              90387.00  \n604795     Engine              90528.00  \n604796     Engine              90254.00  \n604797     Engine             100514.00  \n604798  Collision                   NaN  \n\n[604799 rows x 18 columns]",
      "text/html": "<div>\n<style scoped>\n    .dataframe tbody tr th:only-of-type {\n        vertical-align: middle;\n    }\n\n    .dataframe tbody tr th {\n        vertical-align: top;\n    }\n\n    .dataframe thead th {\n        text-align: right;\n    }\n</style>\n<table border=\"1\" class=\"dataframe\">\n  <thead>\n    <tr style=\"text-align: right;\">\n      <th></th>\n      <th>year</th>\n      <th>date</th>\n      <th>weather</th>\n      <th>driverId</th>\n      <th>grid</th>\n      <th>laps</th>\n      <th>milliseconds</th>\n      <th>forename</th>\n      <th>surname</th>\n      <th>dob</th>\n      <th>nationality</th>\n      <th>name_constructor</th>\n      <th>nationality_constructor</th>\n      <th>name_circuit</th>\n      <th>country</th>\n      <th>type</th>\n      <th>status</th>\n      <th>milliseconds_laptime</th>\n    </tr>\n  </thead>\n  <tbody>\n    <tr>\n      <th>0</th>\n      <td>1950</td>\n      <td>13-05-50</td>\n      <td>NaN</td>\n      <td>642</td>\n      <td>1</td>\n      <td>70</td>\n      <td>8003600</td>\n      <td>Nino</td>\n      <td>Farina</td>\n      <td>1906-10-30</td>\n      <td>Italian</td>\n      <td>Alfa Romeo</td>\n      <td>Swiss</td>\n      <td>Silverstone Circuit</td>\n      <td>UK</td>\n      <td>Race circuit</td>\n      <td>Finished</td>\n      <td>NaN</td>\n    </tr>\n    <tr>\n      <th>1</th>\n      <td>1950</td>\n      <td>13-05-50</td>\n      <td>NaN</td>\n      <td>786</td>\n      <td>2</td>\n      <td>70</td>\n      <td>8006200</td>\n      <td>Luigi</td>\n      <td>Fagioli</td>\n      <td>1898-06-09</td>\n      <td>Italian</td>\n      <td>Alfa Romeo</td>\n      <td>Swiss</td>\n      <td>Silverstone Circuit</td>\n      <td>UK</td>\n      <td>Race circuit</td>\n      <td>Finished</td>\n      <td>NaN</td>\n    </tr>\n    <tr>\n      <th>2</th>\n      <td>1950</td>\n      <td>13-05-50</td>\n      <td>NaN</td>\n      <td>686</td>\n      <td>4</td>\n      <td>70</td>\n      <td>8055600</td>\n      <td>Reg</td>\n      <td>Parnell</td>\n      <td>1911-07-02</td>\n      <td>British</td>\n      <td>Alfa Romeo</td>\n      <td>Swiss</td>\n      <td>Silverstone Circuit</td>\n      <td>UK</td>\n      <td>Race circuit</td>\n      <td>Finished</td>\n      <td>NaN</td>\n    </tr>\n    <tr>\n      <th>3</th>\n      <td>1950</td>\n      <td>13-05-50</td>\n      <td>NaN</td>\n      <td>704</td>\n      <td>6</td>\n      <td>68</td>\n      <td>\\N</td>\n      <td>Yves</td>\n      <td>Cabantous</td>\n      <td>1904-10-08</td>\n      <td>French</td>\n      <td>Talbot-Lago</td>\n      <td>French</td>\n      <td>Silverstone Circuit</td>\n      <td>UK</td>\n      <td>Race circuit</td>\n      <td>+2 Laps</td>\n      <td>NaN</td>\n    </tr>\n    <tr>\n      <th>4</th>\n      <td>1950</td>\n      <td>13-05-50</td>\n      <td>NaN</td>\n      <td>627</td>\n      <td>9</td>\n      <td>68</td>\n      <td>\\N</td>\n      <td>Louis</td>\n      <td>Rosier</td>\n      <td>1905-11-05</td>\n      <td>French</td>\n      <td>Talbot-Lago</td>\n      <td>French</td>\n      <td>Silverstone Circuit</td>\n      <td>UK</td>\n      <td>Race circuit</td>\n      <td>+2 Laps</td>\n      <td>NaN</td>\n    </tr>\n    <tr>\n      <th>...</th>\n      <td>...</td>\n      <td>...</td>\n      <td>...</td>\n      <td>...</td>\n      <td>...</td>\n      <td>...</td>\n      <td>...</td>\n      <td>...</td>\n      <td>...</td>\n      <td>...</td>\n      <td>...</td>\n      <td>...</td>\n      <td>...</td>\n      <td>...</td>\n      <td>...</td>\n      <td>...</td>\n      <td>...</td>\n      <td>...</td>\n    </tr>\n    <tr>\n      <th>604794</th>\n      <td>2024</td>\n      <td>08-12-24</td>\n      <td>Night</td>\n      <td>861</td>\n      <td>20</td>\n      <td>26</td>\n      <td>\\N</td>\n      <td>Franco</td>\n      <td>Colapinto</td>\n      <td>2003-05-27</td>\n      <td>Argentinian</td>\n      <td>Williams</td>\n      <td>British</td>\n      <td>Yas Marina Circuit</td>\n      <td>UAE</td>\n      <td>Race circuit</td>\n      <td>Engine</td>\n      <td>90387.00</td>\n    </tr>\n    <tr>\n      <th>604795</th>\n      <td>2024</td>\n      <td>08-12-24</td>\n      <td>Night</td>\n      <td>861</td>\n      <td>20</td>\n      <td>26</td>\n      <td>\\N</td>\n      <td>Franco</td>\n      <td>Colapinto</td>\n      <td>2003-05-27</td>\n      <td>Argentinian</td>\n      <td>Williams</td>\n      <td>British</td>\n      <td>Yas Marina Circuit</td>\n      <td>UAE</td>\n      <td>Race circuit</td>\n      <td>Engine</td>\n      <td>90528.00</td>\n    </tr>\n    <tr>\n      <th>604796</th>\n      <td>2024</td>\n      <td>08-12-24</td>\n      <td>Night</td>\n      <td>861</td>\n      <td>20</td>\n      <td>26</td>\n      <td>\\N</td>\n      <td>Franco</td>\n      <td>Colapinto</td>\n      <td>2003-05-27</td>\n      <td>Argentinian</td>\n      <td>Williams</td>\n      <td>British</td>\n      <td>Yas Marina Circuit</td>\n      <td>UAE</td>\n      <td>Race circuit</td>\n      <td>Engine</td>\n      <td>90254.00</td>\n    </tr>\n    <tr>\n      <th>604797</th>\n      <td>2024</td>\n      <td>08-12-24</td>\n      <td>Night</td>\n      <td>861</td>\n      <td>20</td>\n      <td>26</td>\n      <td>\\N</td>\n      <td>Franco</td>\n      <td>Colapinto</td>\n      <td>2003-05-27</td>\n      <td>Argentinian</td>\n      <td>Williams</td>\n      <td>British</td>\n      <td>Yas Marina Circuit</td>\n      <td>UAE</td>\n      <td>Race circuit</td>\n      <td>Engine</td>\n      <td>100514.00</td>\n    </tr>\n    <tr>\n      <th>604798</th>\n      <td>2024</td>\n      <td>08-12-24</td>\n      <td>Night</td>\n      <td>815</td>\n      <td>10</td>\n      <td>0</td>\n      <td>\\N</td>\n      <td>Sergio</td>\n      <td>Pérez</td>\n      <td>1990-01-26</td>\n      <td>Mexican</td>\n      <td>Red Bull</td>\n      <td>Austrian</td>\n      <td>Yas Marina Circuit</td>\n      <td>UAE</td>\n      <td>Race circuit</td>\n      <td>Collision</td>\n      <td>NaN</td>\n    </tr>\n  </tbody>\n</table>\n<p>604799 rows × 18 columns</p>\n</div>"
     },
     "execution_count": 78,
     "metadata": {},
     "output_type": "execute_result"
    }
   ],
   "source": [
    "testData = data.copy()\n",
    "#print test data where year = 2020 and name_circuit = 'Bahrain International Circuit'\n",
    "testData\n",
    "#export test data to csv\n",
    "#testData.to_csv('testData.csv', index=False)\n"
   ]
  },
  {
   "cell_type": "code",
   "execution_count": 79,
   "id": "4f655bf3",
   "metadata": {
    "ExecuteTime": {
     "end_time": "2025-04-29T11:03:08.390072Z",
     "start_time": "2025-04-29T11:03:07.711053Z"
    }
   },
   "outputs": [],
   "source": [
    "#rename the columns\n",
    "data.rename(columns={'name':'race_name','grid':'qualification_pos','name_constructor':'constructor',\n",
    "                     'nationality':'driver_nationality','nationality_constructor':'constructor_nationality', 'name_circuit' :'circuit', 'country': 'country_circuit', 'type': 'type_circuit', 'dob':'driver_date_of_birth'},inplace=True)\n",
    "data['driver'] = data['forename']+' '+data['surname']\n",
    "#drop forename columns and surname columns\n",
    "data = data.drop(['forename','surname'],axis=1)\n",
    "def convert_to_full_date(date_str):\n",
    "    day, month, year = date_str.split('-')\n",
    "    year = int(year)\n",
    "    # Assume years < 50 are in 2000s, otherwise in 1900s\n",
    "    full_year = 2000 + year if year < 50 else 1900 + year\n",
    "    return f\"{day}-{month}-{full_year}\"\n",
    "# Specify the date format explicitly\n",
    "data['full_date'] = data['date'].apply(convert_to_full_date)\n",
    "data['driver_date_of_birth'] = pd.to_datetime(data['driver_date_of_birth'])\n",
    "data['date'] = pd.to_datetime(data['full_date'], format='%d-%m-%Y')\n",
    "data = data.drop(['full_date'],axis=1)\n",
    "\n",
    "\n"
   ]
  },
  {
   "cell_type": "code",
   "execution_count": 80,
   "id": "f2fff455",
   "metadata": {
    "ExecuteTime": {
     "end_time": "2025-04-29T11:03:14.366765Z",
     "start_time": "2025-04-29T11:03:08.391422Z"
    }
   },
   "outputs": [],
   "source": [
    "data['age_at_gp_in_days'] = abs(data['driver_date_of_birth']-data['date'])\n",
    "data['age_at_gp_in_days'] = data['age_at_gp_in_days'].apply(lambda x: str(x).split(' ')[0]).astype(int)\n",
    "\n",
    "first_race_dates = data.groupby('driverId')['date'].min().reset_index()\n",
    "first_race_dates.rename(columns={'date': 'first_race_date'}, inplace=True)\n",
    "data = data.merge(first_race_dates, on='driverId', how='left')\n",
    "data = data.drop(['driverId'],axis=1)\n",
    "\n",
    "data['days_since_first_race'] = abs(data['first_race_date']-data['date'])\n",
    "data['days_since_first_race'] = data['days_since_first_race'].apply(lambda x: str(x).split(' ')[0]).astype(int)"
   ]
  },
  {
   "cell_type": "code",
   "execution_count": 81,
   "id": "f312ac68",
   "metadata": {
    "ExecuteTime": {
     "end_time": "2025-04-29T11:03:14.587357Z",
     "start_time": "2025-04-29T11:03:14.367828Z"
    }
   },
   "outputs": [],
   "source": [
    "#create a rain column where if the weather is 'Rain or 'Changeable' or 'Very changeable' then 1 else 0\n",
    "data['rain'] = data['weather'].apply(lambda x: 1 if x in ['Rain', 'Changeable', 'Very changeable'] else 0)\n",
    "#drop the weather column\n",
    "data = data.drop(['weather'],axis=1)"
   ]
  },
  {
   "cell_type": "code",
   "execution_count": 82,
   "id": "0a966ef9",
   "metadata": {
    "ExecuteTime": {
     "end_time": "2025-04-29T11:03:14.668732Z",
     "start_time": "2025-04-29T11:03:14.589428Z"
    }
   },
   "outputs": [],
   "source": [
    "#select all data from 1980\n",
    "data = data[data['year']>=1980]\n",
    "#get first nationality only\n"
   ]
  },
  {
   "cell_type": "code",
   "execution_count": 83,
   "id": "4d7deab9",
   "metadata": {
    "ExecuteTime": {
     "end_time": "2025-04-29T11:03:14.672951Z",
     "start_time": "2025-04-29T11:03:14.669810Z"
    }
   },
   "outputs": [
    {
     "name": "stdout",
     "output_type": "stream",
     "text": [
      "Index(['year', 'date', 'qualification_pos', 'laps', 'milliseconds',\n",
      "       'driver_date_of_birth', 'driver_nationality', 'constructor',\n",
      "       'constructor_nationality', 'circuit', 'country_circuit', 'type_circuit',\n",
      "       'status', 'milliseconds_laptime', 'driver', 'age_at_gp_in_days',\n",
      "       'first_race_date', 'days_since_first_race', 'rain'],\n",
      "      dtype='object')\n"
     ]
    }
   ],
   "source": [
    "print(data.columns)"
   ]
  },
  {
   "cell_type": "code",
   "execution_count": 84,
   "id": "4d168564",
   "metadata": {
    "ExecuteTime": {
     "end_time": "2025-04-29T11:03:14.702349Z",
     "start_time": "2025-04-29T11:03:14.672951Z"
    }
   },
   "outputs": [
    {
     "name": "stdout",
     "output_type": "stream",
     "text": [
      "All Constructors:\n",
      "['Williams' 'Brabham' 'Fittipaldi' 'Tyrrell' 'Alfa Romeo' 'McLaren'\n",
      " 'Ferrari' 'Ensign' 'Ligier' 'Arrows' 'ATS' 'Team Lotus' 'Renault'\n",
      " 'Shadow' 'Osella' 'Theodore' 'March' 'Toleman' 'RAM' 'Spirit' 'Minardi'\n",
      " 'Zakspeed' 'Lola' 'Benetton' 'AGS' 'Larrousse' 'Coloni' 'Rial'\n",
      " 'Euro Brun' 'Dallara' 'Onyx' 'Leyton House' 'Life' 'Lambo' 'Jordan'\n",
      " 'Footwork' 'Fondmetal' 'Andrea Moda' 'Sauber' 'Simtek' 'Pacific' 'Forti'\n",
      " 'Prost' 'Stewart' 'BAR' 'Jaguar' 'Toyota' 'Red Bull' 'Honda' 'Toro Rosso'\n",
      " 'BMW Sauber' 'MF1' 'Super Aguri' 'Spyker MF1' 'Spyker' 'Force India'\n",
      " 'Brawn' 'Mercedes' 'Lotus' 'HRT' 'Virgin' 'Lotus F1' 'Marussia'\n",
      " 'Caterham' 'Manor Marussia' 'Haas F1 Team' 'Racing Point' 'AlphaTauri'\n",
      " 'Aston Martin' 'Alpine F1 Team' 'RB F1 Team']\n"
     ]
    }
   ],
   "source": [
    "#get all unique constructors\n",
    "constructors = data['constructor'].unique()\n",
    "print('All Constructors:')\n",
    "print(constructors)"
   ]
  },
  {
   "cell_type": "code",
   "execution_count": 85,
   "id": "01d94f9c",
   "metadata": {
    "ExecuteTime": {
     "end_time": "2025-04-29T11:03:15.344945Z",
     "start_time": "2025-04-29T11:03:14.703422Z"
    }
   },
   "outputs": [],
   "source": [
    "#Some of the constructors changed their name over the year so replacing old names with current name\n",
    "data['constructor'] = data['constructor'].apply(lambda x: 'Racing Point' if x=='Force India' else x)\n",
    "data['constructor'] = data['constructor'].apply(lambda x: 'Racing Point' if x=='Aston Martin' else x)\n",
    "data['constructor'] = data['constructor'].apply(lambda x: 'Alfa Romeo' if x=='Sauber' else x)\n",
    "data['constructor'] = data['constructor'].apply(lambda x: 'Alfa Romeo' if x=='BMW Sauber' else x)\n",
    "data['constructor'] = data['constructor'].apply(lambda x: 'Renault' if x=='Lotus F1' else x)\n",
    "data['constructor'] = data['constructor'].apply(lambda x: 'Renault' if x=='Alpine F1 Team' else x)\n",
    "data['constructor'] = data['constructor'].apply(lambda x: 'AlphaTauri' if x=='Toro Rosso' else x)\n",
    "data['constructor'] = data['constructor'].apply(lambda x: 'AlphaTauri' if x=='RB F1 Team' else x)"
   ]
  },
  {
   "cell_type": "code",
   "execution_count": 86,
   "id": "dbce8c6f",
   "metadata": {
    "ExecuteTime": {
     "end_time": "2025-04-29T11:03:15.374335Z",
     "start_time": "2025-04-29T11:03:15.345993Z"
    }
   },
   "outputs": [
    {
     "data": {
      "text/plain": "array(['British', 'Brazilian', 'Swiss', 'Italian', 'French', 'Hong Kong',\n       'German', 'Irish', 'Japanese', 'Austrian', 'Russian', 'Dutch',\n       'Indian', 'Malaysian', 'Spanish', 'American'], dtype=object)"
     },
     "execution_count": 86,
     "metadata": {},
     "output_type": "execute_result"
    }
   ],
   "source": [
    "data['constructor_nationality'].unique()\n"
   ]
  },
  {
   "cell_type": "code",
   "execution_count": 87,
   "id": "b9d0151a",
   "metadata": {
    "ExecuteTime": {
     "end_time": "2025-04-29T11:03:15.432291Z",
     "start_time": "2025-04-29T11:03:15.375414Z"
    }
   },
   "outputs": [],
   "source": [
    "#clean data\n",
    "data['driver_nationality'] = data['driver_nationality'].replace('Argentinian', 'Argentine')\n",
    "data['country_circuit'] = data['country_circuit'].replace('United States', 'USA')"
   ]
  },
  {
   "cell_type": "code",
   "execution_count": 88,
   "id": "62c80bf0",
   "metadata": {
    "ExecuteTime": {
     "end_time": "2025-04-29T11:03:15.740216Z",
     "start_time": "2025-04-29T11:03:15.433296Z"
    }
   },
   "outputs": [],
   "source": [
    "#for country circuit\n",
    "\n",
    "#Change all \"Argentinian\" to \"Argentine\"\n",
    "data_tmp = data.copy()\n",
    "\n",
    "#get first nationality only\n",
    "df_countries = countries.copy()\n",
    "df_countries['nationality'] = df_countries['nationality'].apply(lambda x: x.split(',')[0].strip())\n",
    "df_countries['en_short_name'] = df_countries['en_short_name'].apply(lambda x: x.split(',')[0].strip())\n",
    "df_countries['en_short_name'] = df_countries['en_short_name'].apply(lambda x: 'UK' if x=='United Kingdom of Great Britain and Northern Ireland' else x)\n",
    "df_countries['en_short_name'] = df_countries['en_short_name'].apply(lambda x: 'UAE' if x=='United Arab Emirates' else x)\n",
    "df_countries['en_short_name'] = df_countries['en_short_name'].apply(lambda x: 'Korea' if x=='Korea (Republic of)' else x)\n",
    "df_countries['en_short_name'] = df_countries['en_short_name'].apply(lambda x: 'Russia' if x=='Russian Federation' else x)\n",
    "df_countries['en_short_name'] = df_countries['en_short_name'].apply(lambda x: 'USA' if x=='United States of America' else x)\n",
    "\n",
    "#drop rows with duplicate nationality\n",
    "df_countries = df_countries[df_countries['en_short_name'] != 'Taiwan']\n",
    "df_countries = df_countries[df_countries['en_short_name'] != 'United States Minor Outlying Islands']\n",
    "\n",
    "\n",
    "data_with_circuit_nationality = data_tmp.merge(\n",
    "    df_countries,\n",
    "    how='left',\n",
    "    left_on='country_circuit', \n",
    "    right_on='en_short_name'  \n",
    ")\n",
    "\n",
    "#en_short_name\n",
    "\n",
    "data_with_circuit_nationality=data_with_circuit_nationality.drop(['country_circuit', 'num_code', 'alpha_2_code', 'en_short_name', 'nationality'], axis=1)\n",
    "data_with_circuit_nationality.rename(columns={'alpha_3_code':'circuit_nationality'}, inplace=True)\n"
   ]
  },
  {
   "cell_type": "code",
   "execution_count": 89,
   "id": "cf97b79c",
   "metadata": {
    "ExecuteTime": {
     "end_time": "2025-04-29T11:03:16.036924Z",
     "start_time": "2025-04-29T11:03:15.741281Z"
    }
   },
   "outputs": [],
   "source": [
    "data_tmp = data_with_circuit_nationality.copy()\n",
    "\n",
    "data_with_driver_nationality = data_tmp.merge(\n",
    "    df_countries,\n",
    "    how='left',\n",
    "    left_on='driver_nationality', \n",
    "    right_on='nationality'  \n",
    ")\n",
    "\n",
    "data_with_driver_nationality=data_with_driver_nationality.drop(['driver_nationality', 'num_code', 'alpha_2_code', 'en_short_name', 'nationality'], axis=1)\n",
    "data_with_driver_nationality.rename(columns={'alpha_3_code':'driver_nationality'}, inplace=True)\n",
    "\n"
   ]
  },
  {
   "cell_type": "code",
   "execution_count": 90,
   "id": "bc44e93d",
   "metadata": {
    "ExecuteTime": {
     "end_time": "2025-04-29T11:03:16.346643Z",
     "start_time": "2025-04-29T11:03:16.038387Z"
    }
   },
   "outputs": [],
   "source": [
    "data_tmp = data_with_driver_nationality.copy()\n",
    "\n",
    "data_with_constructor_nationality = data_tmp.merge(\n",
    "    df_countries,\n",
    "    how='left',\n",
    "    left_on='constructor_nationality', \n",
    "    right_on='nationality'  \n",
    ")\n",
    "data_with_constructor_nationality=data_with_constructor_nationality.drop(['constructor_nationality', 'num_code', 'alpha_2_code', 'en_short_name', 'nationality'], axis=1)\n",
    "data_with_constructor_nationality.rename(columns={'alpha_3_code':'constructor_nationality'}, inplace=True)\n"
   ]
  },
  {
   "cell_type": "code",
   "execution_count": 91,
   "id": "931d6373",
   "metadata": {
    "ExecuteTime": {
     "end_time": "2025-04-29T11:03:16.759770Z",
     "start_time": "2025-04-29T11:03:16.347648Z"
    }
   },
   "outputs": [],
   "source": [
    "#data after processing nationalities\n",
    "data = data_with_constructor_nationality;\n",
    "data['driver_home'] = data['driver_nationality'] == data['circuit_nationality']\n",
    "data['constructor_home'] = data['constructor_nationality'] == data['circuit_nationality']\n",
    "data['driver_home'] = data['driver_home'].apply(lambda x: int(x))\n",
    "data['constructor_home'] = data['constructor_home'].apply(lambda x: int(x))\n"
   ]
  },
  {
   "cell_type": "code",
   "outputs": [
    {
     "data": {
      "text/plain": "        year       date  qualification_pos  laps milliseconds  \\\n0       1980 1980-01-13                  1    53      6204380   \n1       1980 1980-01-13                  4    53      6228970   \n2       1980 1980-01-13                 13    53      6283020   \n3       1980 1980-01-13                 22    53      6287860   \n4       1980 1980-01-13                 20    52           \\N   \n...      ...        ...                ...   ...          ...   \n596867  2024 2024-12-08                 20    26           \\N   \n596868  2024 2024-12-08                 20    26           \\N   \n596869  2024 2024-12-08                 20    26           \\N   \n596870  2024 2024-12-08                 20    26           \\N   \n596871  2024 2024-12-08                 10     0           \\N   \n\n       driver_date_of_birth constructor                        circuit  \\\n0                1946-11-02    Williams  Autódromo Juan y Oscar Gálvez   \n1                1952-08-17     Brabham  Autódromo Juan y Oscar Gálvez   \n2                1948-12-06  Fittipaldi  Autódromo Juan y Oscar Gálvez   \n3                1953-03-11     Tyrrell  Autódromo Juan y Oscar Gálvez   \n4                1952-09-10  Alfa Romeo  Autódromo Juan y Oscar Gálvez   \n...                     ...         ...                            ...   \n596867           2003-05-27    Williams             Yas Marina Circuit   \n596868           2003-05-27    Williams             Yas Marina Circuit   \n596869           2003-05-27    Williams             Yas Marina Circuit   \n596870           2003-05-27    Williams             Yas Marina Circuit   \n596871           1990-01-26    Red Bull             Yas Marina Circuit   \n\n        type_circuit  milliseconds_laptime  ... age_at_gp_in_days  \\\n0       Race circuit                   NaN  ...             12125   \n1       Race circuit                   NaN  ...             10010   \n2       Race circuit                   NaN  ...             11360   \n3       Race circuit                   NaN  ...              9804   \n4       Race circuit                   NaN  ...              9986   \n...              ...                   ...  ...               ...   \n596867  Race circuit              90387.00  ...              7866   \n596868  Race circuit              90528.00  ...              7866   \n596869  Race circuit              90254.00  ...              7866   \n596870  Race circuit             100514.00  ...              7866   \n596871  Race circuit                   NaN  ...             12735   \n\n        first_race_date days_since_first_race  rain  circuit_nationality  \\\n0            1975-04-27                  1722     0                  ARG   \n1            1978-07-30                   532     0                  ARG   \n2            1978-03-04                   680     0                  ARG   \n3            1978-04-02                   651     0                  ARG   \n4            1977-09-11                   854     0                  ARG   \n...                 ...                   ...   ...                  ...   \n596867       2024-09-01                    98     0                  ARE   \n596868       2024-09-01                    98     0                  ARE   \n596869       2024-09-01                    98     0                  ARE   \n596870       2024-09-01                    98     0                  ARE   \n596871       2011-03-27                  5005     0                  ARE   \n\n       driver_nationality constructor_nationality driver_home  \\\n0                     AUS                     GBR           0   \n1                     BRA                     GBR           0   \n2                     FIN                     BRA           0   \n3                     IRL                     GBR           0   \n4                     ITA                     CHE           0   \n...                   ...                     ...         ...   \n596867                ARG                     GBR           0   \n596868                ARG                     GBR           0   \n596869                ARG                     GBR           0   \n596870                ARG                     GBR           0   \n596871                MEX                     AUT           0   \n\n        constructor_home  dnf  \n0                      0    0  \n1                      0    0  \n2                      0    0  \n3                      0    0  \n4                      0    0  \n...                  ...  ...  \n596867                 0    1  \n596868                 0    1  \n596869                 0    1  \n596870                 0    1  \n596871                 0    1  \n\n[592473 rows x 21 columns]",
      "text/html": "<div>\n<style scoped>\n    .dataframe tbody tr th:only-of-type {\n        vertical-align: middle;\n    }\n\n    .dataframe tbody tr th {\n        vertical-align: top;\n    }\n\n    .dataframe thead th {\n        text-align: right;\n    }\n</style>\n<table border=\"1\" class=\"dataframe\">\n  <thead>\n    <tr style=\"text-align: right;\">\n      <th></th>\n      <th>year</th>\n      <th>date</th>\n      <th>qualification_pos</th>\n      <th>laps</th>\n      <th>milliseconds</th>\n      <th>driver_date_of_birth</th>\n      <th>constructor</th>\n      <th>circuit</th>\n      <th>type_circuit</th>\n      <th>milliseconds_laptime</th>\n      <th>...</th>\n      <th>age_at_gp_in_days</th>\n      <th>first_race_date</th>\n      <th>days_since_first_race</th>\n      <th>rain</th>\n      <th>circuit_nationality</th>\n      <th>driver_nationality</th>\n      <th>constructor_nationality</th>\n      <th>driver_home</th>\n      <th>constructor_home</th>\n      <th>dnf</th>\n    </tr>\n  </thead>\n  <tbody>\n    <tr>\n      <th>0</th>\n      <td>1980</td>\n      <td>1980-01-13</td>\n      <td>1</td>\n      <td>53</td>\n      <td>6204380</td>\n      <td>1946-11-02</td>\n      <td>Williams</td>\n      <td>Autódromo Juan y Oscar Gálvez</td>\n      <td>Race circuit</td>\n      <td>NaN</td>\n      <td>...</td>\n      <td>12125</td>\n      <td>1975-04-27</td>\n      <td>1722</td>\n      <td>0</td>\n      <td>ARG</td>\n      <td>AUS</td>\n      <td>GBR</td>\n      <td>0</td>\n      <td>0</td>\n      <td>0</td>\n    </tr>\n    <tr>\n      <th>1</th>\n      <td>1980</td>\n      <td>1980-01-13</td>\n      <td>4</td>\n      <td>53</td>\n      <td>6228970</td>\n      <td>1952-08-17</td>\n      <td>Brabham</td>\n      <td>Autódromo Juan y Oscar Gálvez</td>\n      <td>Race circuit</td>\n      <td>NaN</td>\n      <td>...</td>\n      <td>10010</td>\n      <td>1978-07-30</td>\n      <td>532</td>\n      <td>0</td>\n      <td>ARG</td>\n      <td>BRA</td>\n      <td>GBR</td>\n      <td>0</td>\n      <td>0</td>\n      <td>0</td>\n    </tr>\n    <tr>\n      <th>2</th>\n      <td>1980</td>\n      <td>1980-01-13</td>\n      <td>13</td>\n      <td>53</td>\n      <td>6283020</td>\n      <td>1948-12-06</td>\n      <td>Fittipaldi</td>\n      <td>Autódromo Juan y Oscar Gálvez</td>\n      <td>Race circuit</td>\n      <td>NaN</td>\n      <td>...</td>\n      <td>11360</td>\n      <td>1978-03-04</td>\n      <td>680</td>\n      <td>0</td>\n      <td>ARG</td>\n      <td>FIN</td>\n      <td>BRA</td>\n      <td>0</td>\n      <td>0</td>\n      <td>0</td>\n    </tr>\n    <tr>\n      <th>3</th>\n      <td>1980</td>\n      <td>1980-01-13</td>\n      <td>22</td>\n      <td>53</td>\n      <td>6287860</td>\n      <td>1953-03-11</td>\n      <td>Tyrrell</td>\n      <td>Autódromo Juan y Oscar Gálvez</td>\n      <td>Race circuit</td>\n      <td>NaN</td>\n      <td>...</td>\n      <td>9804</td>\n      <td>1978-04-02</td>\n      <td>651</td>\n      <td>0</td>\n      <td>ARG</td>\n      <td>IRL</td>\n      <td>GBR</td>\n      <td>0</td>\n      <td>0</td>\n      <td>0</td>\n    </tr>\n    <tr>\n      <th>4</th>\n      <td>1980</td>\n      <td>1980-01-13</td>\n      <td>20</td>\n      <td>52</td>\n      <td>\\N</td>\n      <td>1952-09-10</td>\n      <td>Alfa Romeo</td>\n      <td>Autódromo Juan y Oscar Gálvez</td>\n      <td>Race circuit</td>\n      <td>NaN</td>\n      <td>...</td>\n      <td>9986</td>\n      <td>1977-09-11</td>\n      <td>854</td>\n      <td>0</td>\n      <td>ARG</td>\n      <td>ITA</td>\n      <td>CHE</td>\n      <td>0</td>\n      <td>0</td>\n      <td>0</td>\n    </tr>\n    <tr>\n      <th>...</th>\n      <td>...</td>\n      <td>...</td>\n      <td>...</td>\n      <td>...</td>\n      <td>...</td>\n      <td>...</td>\n      <td>...</td>\n      <td>...</td>\n      <td>...</td>\n      <td>...</td>\n      <td>...</td>\n      <td>...</td>\n      <td>...</td>\n      <td>...</td>\n      <td>...</td>\n      <td>...</td>\n      <td>...</td>\n      <td>...</td>\n      <td>...</td>\n      <td>...</td>\n      <td>...</td>\n    </tr>\n    <tr>\n      <th>596867</th>\n      <td>2024</td>\n      <td>2024-12-08</td>\n      <td>20</td>\n      <td>26</td>\n      <td>\\N</td>\n      <td>2003-05-27</td>\n      <td>Williams</td>\n      <td>Yas Marina Circuit</td>\n      <td>Race circuit</td>\n      <td>90387.00</td>\n      <td>...</td>\n      <td>7866</td>\n      <td>2024-09-01</td>\n      <td>98</td>\n      <td>0</td>\n      <td>ARE</td>\n      <td>ARG</td>\n      <td>GBR</td>\n      <td>0</td>\n      <td>0</td>\n      <td>1</td>\n    </tr>\n    <tr>\n      <th>596868</th>\n      <td>2024</td>\n      <td>2024-12-08</td>\n      <td>20</td>\n      <td>26</td>\n      <td>\\N</td>\n      <td>2003-05-27</td>\n      <td>Williams</td>\n      <td>Yas Marina Circuit</td>\n      <td>Race circuit</td>\n      <td>90528.00</td>\n      <td>...</td>\n      <td>7866</td>\n      <td>2024-09-01</td>\n      <td>98</td>\n      <td>0</td>\n      <td>ARE</td>\n      <td>ARG</td>\n      <td>GBR</td>\n      <td>0</td>\n      <td>0</td>\n      <td>1</td>\n    </tr>\n    <tr>\n      <th>596869</th>\n      <td>2024</td>\n      <td>2024-12-08</td>\n      <td>20</td>\n      <td>26</td>\n      <td>\\N</td>\n      <td>2003-05-27</td>\n      <td>Williams</td>\n      <td>Yas Marina Circuit</td>\n      <td>Race circuit</td>\n      <td>90254.00</td>\n      <td>...</td>\n      <td>7866</td>\n      <td>2024-09-01</td>\n      <td>98</td>\n      <td>0</td>\n      <td>ARE</td>\n      <td>ARG</td>\n      <td>GBR</td>\n      <td>0</td>\n      <td>0</td>\n      <td>1</td>\n    </tr>\n    <tr>\n      <th>596870</th>\n      <td>2024</td>\n      <td>2024-12-08</td>\n      <td>20</td>\n      <td>26</td>\n      <td>\\N</td>\n      <td>2003-05-27</td>\n      <td>Williams</td>\n      <td>Yas Marina Circuit</td>\n      <td>Race circuit</td>\n      <td>100514.00</td>\n      <td>...</td>\n      <td>7866</td>\n      <td>2024-09-01</td>\n      <td>98</td>\n      <td>0</td>\n      <td>ARE</td>\n      <td>ARG</td>\n      <td>GBR</td>\n      <td>0</td>\n      <td>0</td>\n      <td>1</td>\n    </tr>\n    <tr>\n      <th>596871</th>\n      <td>2024</td>\n      <td>2024-12-08</td>\n      <td>10</td>\n      <td>0</td>\n      <td>\\N</td>\n      <td>1990-01-26</td>\n      <td>Red Bull</td>\n      <td>Yas Marina Circuit</td>\n      <td>Race circuit</td>\n      <td>NaN</td>\n      <td>...</td>\n      <td>12735</td>\n      <td>2011-03-27</td>\n      <td>5005</td>\n      <td>0</td>\n      <td>ARE</td>\n      <td>MEX</td>\n      <td>AUT</td>\n      <td>0</td>\n      <td>0</td>\n      <td>1</td>\n    </tr>\n  </tbody>\n</table>\n<p>592473 rows × 21 columns</p>\n</div>"
     },
     "execution_count": 92,
     "metadata": {},
     "output_type": "execute_result"
    }
   ],
   "source": [
    "#create a dnf column\n",
    "# pattern = r\"\\+.* Lap.*\"\n",
    "# data_median = data_median[data_median['status'].eq('Finished') | data_median['status'].str.match(pattern)]\n",
    "#dnf = 0 if status = 'Finished' or match regex else 1\n",
    "pattern = r\"\\+.* Lap.*\"\n",
    "data['dnf'] = data['status'].apply(lambda x: 0 if x == 'Finished' or re.match(pattern, x) else 1)\n",
    "data.drop(['status'], axis=1, inplace=True)\n",
    "data.drop_duplicates(inplace=True)\n",
    "data\n"
   ],
   "metadata": {
    "collapsed": false,
    "ExecuteTime": {
     "end_time": "2025-04-29T11:03:17.879620Z",
     "start_time": "2025-04-29T11:03:16.760831Z"
    }
   },
   "id": "415de41bb0ddfda3",
   "execution_count": 92
  },
  {
   "cell_type": "markdown",
   "id": "90d7fedf",
   "metadata": {},
   "source": [
    "<h3>Testing different models on cleaned data</h3>"
   ]
  },
  {
   "cell_type": "code",
   "execution_count": 93,
   "id": "e2bc696a",
   "metadata": {
    "ExecuteTime": {
     "end_time": "2025-04-29T11:03:48.538053Z",
     "start_time": "2025-04-29T11:03:48.104144Z"
    }
   },
   "outputs": [],
   "source": [
    "# Drop irrelevant columns\n",
    "columns_to_drop = [ 'driver_date_of_birth', 'date', 'first_race_date',\n",
    "                   'milliseconds', 'milliseconds_laptime', 'laps']\n",
    "\n",
    "\n",
    "cleaned_data = data.drop(columns=columns_to_drop)\n",
    "cleaned_data.rename(columns={'qualification_pos':'qualification_position'},inplace=True)\n",
    "cleaned_data.drop_duplicates(inplace=True)\n",
    "cleaned_data.dtypes\n",
    "#export cleaned data to csv\n",
    "cleaned_data.to_csv('cleaned_status_data.csv', index=False)"
   ]
  },
  {
   "cell_type": "code",
   "outputs": [],
   "source": [
    "# Split features and target\n",
    "y = cleaned_data['dnf']\n",
    "X = cleaned_data.drop(columns=['dnf'])\n",
    "X_train, X_test, y_train, y_test = train_test_split(\n",
    "    X, y, test_size=0.2, random_state=42)"
   ],
   "metadata": {
    "collapsed": false,
    "ExecuteTime": {
     "end_time": "2025-04-29T11:03:49.160997Z",
     "start_time": "2025-04-29T11:03:49.112807Z"
    }
   },
   "id": "adbf4c9ed3cddc58",
   "execution_count": 94
  },
  {
   "cell_type": "code",
   "outputs": [
    {
     "data": {
      "text/plain": "        year  qualification_position   constructor  \\\n331062  2013                      13  Racing Point   \n1664    1983                       0      Williams   \n252844  2009                      10       Renault   \n203464  2007                      12    AlphaTauri   \n362626  2014                       8      Red Bull   \n...      ...                     ...           ...   \n196076  2006                      20   Super Aguri   \n231678  2008                      14       Ferrari   \n5390    1991                      13       Brabham   \n860     1982                       0        Arrows   \n431065  2017                       5       Ferrari   \n\n                               circuit    type_circuit             driver  \\\n331062  Circuit de Barcelona-Catalunya    Race circuit       Adrian Sutil   \n1664      Autodromo Nazionale di Monza    Race circuit    Jacques Laffite   \n252844      Autódromo José Carlos Pace    Race circuit    Fernando Alonso   \n203464               Circuit de Monaco  Street circuit  Vitantonio Liuzzi   \n362626    Autodromo Nazionale di Monza    Race circuit   Sebastian Vettel   \n...                                ...             ...                ...   \n196076                  Suzuka Circuit    Race circuit        Takuma Sato   \n231678    Autodromo Nazionale di Monza    Race circuit     Kimi Räikkönen   \n5390      Circuit de Spa-Francorchamps    Race circuit      Mark Blundell   \n860                            Kyalami    Race circuit       Brian Henton   \n431065    Autódromo Hermanos Rodríguez    Race circuit     Kimi Räikkönen   \n\n        age_at_gp_in_days  days_since_first_race  rain circuit_nationality  \\\n331062              11079                   2247     0                 ESP   \n1664                14539                   3325     0                 ITA   \n252844              10308                   3150     0                 BRA   \n203464               9790                    763     0                 MCO   \n362626               9928                   2639     0                 ITA   \n...                   ...                    ...   ...                 ...   \n196076              10845                   1680     0                 JPN   \n231678              10560                   2751     1                 ITA   \n5390                 9270                    168     0                 BEL   \n860                 12910                   2380     0                 ZAF   \n431065              13892                   6083     0                 MEX   \n\n       driver_nationality constructor_nationality  driver_home  \\\n331062                DEU                     IND            0   \n1664                  FRA                     GBR            0   \n252844                ESP                     FRA            0   \n203464                ITA                     ITA            0   \n362626                DEU                     AUT            0   \n...                   ...                     ...          ...   \n196076                JPN                     JPN            1   \n231678                FIN                     ITA            0   \n5390                  GBR                     GBR            0   \n860                   GBR                     GBR            0   \n431065                FIN                     ITA            0   \n\n        constructor_home  \n331062                 0  \n1664                   0  \n252844                 0  \n203464                 0  \n362626                 0  \n...                  ...  \n196076                 1  \n231678                 1  \n5390                   0  \n860                    0  \n431065                 0  \n\n[15065 rows x 14 columns]",
      "text/html": "<div>\n<style scoped>\n    .dataframe tbody tr th:only-of-type {\n        vertical-align: middle;\n    }\n\n    .dataframe tbody tr th {\n        vertical-align: top;\n    }\n\n    .dataframe thead th {\n        text-align: right;\n    }\n</style>\n<table border=\"1\" class=\"dataframe\">\n  <thead>\n    <tr style=\"text-align: right;\">\n      <th></th>\n      <th>year</th>\n      <th>qualification_position</th>\n      <th>constructor</th>\n      <th>circuit</th>\n      <th>type_circuit</th>\n      <th>driver</th>\n      <th>age_at_gp_in_days</th>\n      <th>days_since_first_race</th>\n      <th>rain</th>\n      <th>circuit_nationality</th>\n      <th>driver_nationality</th>\n      <th>constructor_nationality</th>\n      <th>driver_home</th>\n      <th>constructor_home</th>\n    </tr>\n  </thead>\n  <tbody>\n    <tr>\n      <th>331062</th>\n      <td>2013</td>\n      <td>13</td>\n      <td>Racing Point</td>\n      <td>Circuit de Barcelona-Catalunya</td>\n      <td>Race circuit</td>\n      <td>Adrian Sutil</td>\n      <td>11079</td>\n      <td>2247</td>\n      <td>0</td>\n      <td>ESP</td>\n      <td>DEU</td>\n      <td>IND</td>\n      <td>0</td>\n      <td>0</td>\n    </tr>\n    <tr>\n      <th>1664</th>\n      <td>1983</td>\n      <td>0</td>\n      <td>Williams</td>\n      <td>Autodromo Nazionale di Monza</td>\n      <td>Race circuit</td>\n      <td>Jacques Laffite</td>\n      <td>14539</td>\n      <td>3325</td>\n      <td>0</td>\n      <td>ITA</td>\n      <td>FRA</td>\n      <td>GBR</td>\n      <td>0</td>\n      <td>0</td>\n    </tr>\n    <tr>\n      <th>252844</th>\n      <td>2009</td>\n      <td>10</td>\n      <td>Renault</td>\n      <td>Autódromo José Carlos Pace</td>\n      <td>Race circuit</td>\n      <td>Fernando Alonso</td>\n      <td>10308</td>\n      <td>3150</td>\n      <td>0</td>\n      <td>BRA</td>\n      <td>ESP</td>\n      <td>FRA</td>\n      <td>0</td>\n      <td>0</td>\n    </tr>\n    <tr>\n      <th>203464</th>\n      <td>2007</td>\n      <td>12</td>\n      <td>AlphaTauri</td>\n      <td>Circuit de Monaco</td>\n      <td>Street circuit</td>\n      <td>Vitantonio Liuzzi</td>\n      <td>9790</td>\n      <td>763</td>\n      <td>0</td>\n      <td>MCO</td>\n      <td>ITA</td>\n      <td>ITA</td>\n      <td>0</td>\n      <td>0</td>\n    </tr>\n    <tr>\n      <th>362626</th>\n      <td>2014</td>\n      <td>8</td>\n      <td>Red Bull</td>\n      <td>Autodromo Nazionale di Monza</td>\n      <td>Race circuit</td>\n      <td>Sebastian Vettel</td>\n      <td>9928</td>\n      <td>2639</td>\n      <td>0</td>\n      <td>ITA</td>\n      <td>DEU</td>\n      <td>AUT</td>\n      <td>0</td>\n      <td>0</td>\n    </tr>\n    <tr>\n      <th>...</th>\n      <td>...</td>\n      <td>...</td>\n      <td>...</td>\n      <td>...</td>\n      <td>...</td>\n      <td>...</td>\n      <td>...</td>\n      <td>...</td>\n      <td>...</td>\n      <td>...</td>\n      <td>...</td>\n      <td>...</td>\n      <td>...</td>\n      <td>...</td>\n    </tr>\n    <tr>\n      <th>196076</th>\n      <td>2006</td>\n      <td>20</td>\n      <td>Super Aguri</td>\n      <td>Suzuka Circuit</td>\n      <td>Race circuit</td>\n      <td>Takuma Sato</td>\n      <td>10845</td>\n      <td>1680</td>\n      <td>0</td>\n      <td>JPN</td>\n      <td>JPN</td>\n      <td>JPN</td>\n      <td>1</td>\n      <td>1</td>\n    </tr>\n    <tr>\n      <th>231678</th>\n      <td>2008</td>\n      <td>14</td>\n      <td>Ferrari</td>\n      <td>Autodromo Nazionale di Monza</td>\n      <td>Race circuit</td>\n      <td>Kimi Räikkönen</td>\n      <td>10560</td>\n      <td>2751</td>\n      <td>1</td>\n      <td>ITA</td>\n      <td>FIN</td>\n      <td>ITA</td>\n      <td>0</td>\n      <td>1</td>\n    </tr>\n    <tr>\n      <th>5390</th>\n      <td>1991</td>\n      <td>13</td>\n      <td>Brabham</td>\n      <td>Circuit de Spa-Francorchamps</td>\n      <td>Race circuit</td>\n      <td>Mark Blundell</td>\n      <td>9270</td>\n      <td>168</td>\n      <td>0</td>\n      <td>BEL</td>\n      <td>GBR</td>\n      <td>GBR</td>\n      <td>0</td>\n      <td>0</td>\n    </tr>\n    <tr>\n      <th>860</th>\n      <td>1982</td>\n      <td>0</td>\n      <td>Arrows</td>\n      <td>Kyalami</td>\n      <td>Race circuit</td>\n      <td>Brian Henton</td>\n      <td>12910</td>\n      <td>2380</td>\n      <td>0</td>\n      <td>ZAF</td>\n      <td>GBR</td>\n      <td>GBR</td>\n      <td>0</td>\n      <td>0</td>\n    </tr>\n    <tr>\n      <th>431065</th>\n      <td>2017</td>\n      <td>5</td>\n      <td>Ferrari</td>\n      <td>Autódromo Hermanos Rodríguez</td>\n      <td>Race circuit</td>\n      <td>Kimi Räikkönen</td>\n      <td>13892</td>\n      <td>6083</td>\n      <td>0</td>\n      <td>MEX</td>\n      <td>FIN</td>\n      <td>ITA</td>\n      <td>0</td>\n      <td>0</td>\n    </tr>\n  </tbody>\n</table>\n<p>15065 rows × 14 columns</p>\n</div>"
     },
     "execution_count": 98,
     "metadata": {},
     "output_type": "execute_result"
    }
   ],
   "source": [
    "#print data where eyar = 2020 and name_circuit = 'Bahrain International Circuit'\n",
    "X_train\n"
   ],
   "metadata": {
    "collapsed": false,
    "ExecuteTime": {
     "end_time": "2025-04-29T11:04:36.058979Z",
     "start_time": "2025-04-29T11:04:36.048503Z"
    }
   },
   "id": "7e22f45461e1abd3",
   "execution_count": 98
  },
  {
   "cell_type": "markdown",
   "id": "e0f4546b",
   "metadata": {},
   "source": [
    "<h3> Random forest classifier</h3>"
   ]
  },
  {
   "cell_type": "code",
   "execution_count": 99,
   "id": "d2765981",
   "metadata": {
    "ExecuteTime": {
     "end_time": "2025-04-29T11:05:54.919458Z",
     "start_time": "2025-04-29T11:05:10.801748Z"
    }
   },
   "outputs": [
    {
     "name": "stdout",
     "output_type": "stream",
     "text": [
      "Fitting 5 folds for each of 1 candidates, totalling 5 fits\n",
      "Best Parameters: {'model__max_depth': 30, 'model__min_samples_leaf': 4, 'model__min_samples_split': 15, 'model__n_estimators': 800}\n",
      "Best ROC AUC Score (CV): 0.7623\n",
      "\n",
      "Classification Report:\n",
      "              precision    recall  f1-score   support\n",
      "\n",
      "           0       0.73      0.84      0.78      2282\n",
      "           1       0.68      0.52      0.59      1485\n",
      "\n",
      "    accuracy                           0.71      3767\n",
      "   macro avg       0.70      0.68      0.68      3767\n",
      "weighted avg       0.71      0.71      0.70      3767\n",
      "\n",
      "Confusion Matrix:\n",
      "[[1918  364]\n",
      " [ 719  766]]\n",
      "ROC AUC Score: 0.7657\n"
     ]
    }
   ],
   "source": [
    "# Identify numeric and categorical columns\n",
    "num_cols = X_train.select_dtypes(exclude='object').columns.tolist()\n",
    "cat_cols = X_train.select_dtypes(include='object').columns.tolist()\n",
    "\n",
    "# Preprocessing pipeline\n",
    "preprocessor = ColumnTransformer([\n",
    "    ('num', StandardScaler(), num_cols),\n",
    "    ('cat', OneHotEncoder(handle_unknown='ignore', sparse_output=False), cat_cols)\n",
    "])\n",
    "\n",
    "# Full pipeline\n",
    "pipeline = Pipeline([\n",
    "    ('preprocessing', preprocessor),\n",
    "    ('model', RandomForestClassifier(random_state=42))\n",
    "])\n",
    "\n",
    "# Hyperparameter grid\n",
    "param_grid = {\n",
    "    # 'model__max_depth': [30],\n",
    "    # 'model__min_samples_leaf': [2, 3, 4],\n",
    "    # 'model__min_samples_split': [10, 15],\n",
    "    # 'model__n_estimators': [600, 800]\n",
    "    \n",
    "    'model__max_depth': [30],\n",
    "    'model__min_samples_leaf': [4],\n",
    "    'model__min_samples_split': [15],\n",
    "    'model__n_estimators': [800]\n",
    "}\n",
    "\n",
    "# Cross-validation strategy\n",
    "k = 5\n",
    "cv = KFold(n_splits=k, shuffle=True, random_state=42)\n",
    "\n",
    "# Grid search with classification scoring\n",
    "grid_search = GridSearchCV(\n",
    "    estimator=pipeline,\n",
    "    param_grid=param_grid,\n",
    "    cv=cv,\n",
    "    scoring='roc_auc', \n",
    "    verbose=1,\n",
    "    n_jobs=-1\n",
    ")\n",
    "\n",
    "# Train model\n",
    "grid_search.fit(X_train, y_train)\n",
    "\n",
    "# Best parameters and performance\n",
    "print(\"Best Parameters:\", grid_search.best_params_)\n",
    "print(f\"Best ROC AUC Score (CV): {grid_search.best_score_:.4f}\")\n",
    "\n",
    "# Final model\n",
    "best_model_rf = grid_search.best_estimator_\n",
    "\n",
    "# Predict on test set\n",
    "y_pred = best_model_rf.predict(X_test)\n",
    "y_proba = best_model_rf.predict_proba(X_test)[:, 1]\n",
    "\n",
    "# Evaluation metrics\n",
    "print(\"\\nClassification Report:\")\n",
    "print(classification_report(y_test, y_pred))\n",
    "\n",
    "print(\"Confusion Matrix:\")\n",
    "print(confusion_matrix(y_test, y_pred))\n",
    "\n",
    "print(f\"ROC AUC Score: {roc_auc_score(y_test, y_proba):.4f}\")\n"
   ]
  },
  {
   "cell_type": "code",
   "execution_count": 100,
   "id": "4baa0b33",
   "metadata": {
    "ExecuteTime": {
     "end_time": "2025-04-29T11:06:29.131875Z",
     "start_time": "2025-04-29T11:06:28.810527Z"
    }
   },
   "outputs": [
    {
     "name": "stderr",
     "output_type": "stream",
     "text": [
      "C:\\Users\\Admin\\AppData\\Local\\Temp\\ipykernel_10816\\1344995424.py:52: FutureWarning: \n",
      "\n",
      "Passing `palette` without assigning `hue` is deprecated and will be removed in v0.14.0. Assign the `y` variable to `hue` and set `legend=False` for the same effect.\n",
      "\n",
      "  sns.barplot(data=grouped_importance, x='Importance', y='Group', palette='viridis')\n"
     ]
    },
    {
     "data": {
      "text/plain": "<Figure size 1200x600 with 1 Axes>",
      "image/png": "[encoded data removed]"
     },
     "metadata": {},
     "output_type": "display_data"
    }
   ],
   "source": [
    "# Get best pipeline from grid search\n",
    "best_pipeline = best_model_rf\n",
    "\n",
    "# Get preprocessor and trained model\n",
    "preprocessor = best_pipeline.named_steps['preprocessing']\n",
    "model = best_pipeline.named_steps['model']\n",
    "\n",
    "# Extract feature names after preprocessing\n",
    "# 1. Numeric feature names (not transformed)\n",
    "num_features = num_cols\n",
    "\n",
    "# 2. Categorical one-hot encoded feature names\n",
    "ohe = preprocessor.named_transformers_['cat']\n",
    "cat_features = ohe.get_feature_names_out(cat_cols)\n",
    "\n",
    "# 3. Combine both\n",
    "feature_names = np.concatenate([num_features, cat_features])\n",
    "\n",
    "# 4. Extract feature importances from the model\n",
    "importances = model.feature_importances_\n",
    "\n",
    "# 5. Create DataFrame for display\n",
    "importances_df = pd.DataFrame({\n",
    "    'Feature': feature_names,\n",
    "    'Importance': importances\n",
    "}).sort_values(by='Importance', ascending=False)\n",
    "\n",
    "# import seaborn as sns\n",
    "# import matplotlib.pyplot as plt\n",
    "\n",
    "\n",
    "# Step 2: Create DataFrame\n",
    "feat_df = pd.DataFrame({\n",
    "    'Feature': feature_names,\n",
    "    'Importance': importances\n",
    "})\n",
    "\n",
    "# Step 3: Extract base feature name for grouping\n",
    "def extract_base_feature(name):\n",
    "    if name in num_features:\n",
    "        return name\n",
    "    else:\n",
    "        return name.split('_')[0]  # e.g., \"circuit_Monaco\" -> \"circuit\"\n",
    "\n",
    "feat_df['Group'] = feat_df['Feature'].apply(extract_base_feature)\n",
    "\n",
    "# Step 4: Aggregate importance by group\n",
    "grouped_importance = feat_df.groupby('Group')['Importance'].sum().sort_values(ascending=False).reset_index()\n",
    "\n",
    "# Step 5: Plot with Seaborn\n",
    "plt.figure(figsize=(12, 6))\n",
    "sns.barplot(data=grouped_importance, x='Importance', y='Group', palette='viridis')\n",
    "\n",
    "plt.title('Grouped Feature Importances')\n",
    "plt.xlabel('Total Importance')\n",
    "plt.ylabel('Feature Group')\n",
    "plt.tight_layout()\n",
    "plt.show()"
   ]
  },
  {
   "cell_type": "code",
   "execution_count": 46,
   "id": "34571d3e",
   "metadata": {
    "ExecuteTime": {
     "end_time": "2025-04-29T06:29:21.120491Z",
     "start_time": "2025-04-29T06:29:21.027248Z"
    }
   },
   "outputs": [],
   "source": [
    "# save\n",
    "with open('rf_status.pkl','wb') as f:\n",
    "    pickle.dump(best_model_rf,f)\n",
    "\n",
    "# load\n",
    "# with open('model.pkl', 'rb') as f:\n",
    "#     clf2 = pickle.load(f)\n"
   ]
  },
  {
   "cell_type": "markdown",
   "id": "d19735ab",
   "metadata": {},
   "source": [
    "<h5>Gradient boost regressor</h5>"
   ]
  },
  {
   "cell_type": "code",
   "execution_count": null,
   "id": "f13341a7",
   "metadata": {
    "ExecuteTime": {
     "start_time": "2025-04-29T08:29:44.339840Z"
    }
   },
   "outputs": [
    {
     "name": "stdout",
     "output_type": "stream",
     "text": [
      "Fitting 5 folds for each of 48 candidates, totalling 240 fits\n"
     ]
    }
   ],
   "source": [
    "# Split features and target\n",
    "\n",
    "# Identify column types\n",
    "num_cols = X_train.select_dtypes(exclude='object').columns.tolist()\n",
    "cat_cols = X_train.select_dtypes(include='object').columns.tolist()\n",
    "\n",
    "# Preprocessor: OHE for categorical, StandardScaler for numeric\n",
    "preprocessor = ColumnTransformer([\n",
    "    ('num', StandardScaler(), num_cols),\n",
    "    ('cat', OneHotEncoder(handle_unknown='ignore', sparse_output=False), cat_cols)\n",
    "])\n",
    "\n",
    "# Full pipeline\n",
    "pipeline = Pipeline([\n",
    "    ('preprocessing', preprocessor),\n",
    "    ('model', GradientBoostingRegressor())\n",
    "])\n",
    "\n",
    "# GridSearchCV parameters (nested under \"model__\")\n",
    "param_grid = {\n",
    "    'model__loss': [ 'huber'],\n",
    "    'model__learning_rate': [0.01, 0.1],\n",
    "    'model__n_estimators': [ 300, 400],\n",
    "    'model__min_samples_split': [ 5, 10, 15],\n",
    "    'model__min_samples_leaf': [ 4, 5],\n",
    "    'model__max_depth': [ 4, 5],\n",
    "}\n",
    "\n",
    "# Cross-validation\n",
    "k = 5\n",
    "cv = KFold(n_splits=k, shuffle=True, random_state=42)\n",
    "\n",
    "grid_search = GridSearchCV(estimator=pipeline,\n",
    "                           param_grid=param_grid,\n",
    "                           cv=cv,\n",
    "                           scoring='neg_mean_squared_error',\n",
    "                           verbose=1,\n",
    "                           n_jobs=-1)\n",
    "\n",
    "# Fit\n",
    "grid_search.fit(X_train, y_train)\n",
    "\n",
    "\n",
    "# Best model and performance\n",
    "\n",
    "print(\"Best Parameters:\", grid_search.best_params_)\n",
    "best_rmse = np.sqrt(-grid_search.best_score_)\n",
    "print(\"Best RMSE:\", best_rmse)\n",
    "\n",
    "\n",
    "# Evaluate on training set (optional)\n",
    "\n",
    "best_model_gb = grid_search.best_estimator_\n",
    "y_pred = best_model_gb.predict(X_test)\n",
    "\n",
    "mse = mean_squared_error(y_test, y_pred)\n",
    "rmse = np.sqrt(mse)\n",
    "r2 = r2_score(y_test, y_pred)\n",
    "mae = mean_absolute_error(y_test, y_pred)\n",
    "\n",
    "print(\"Final Model Performance:\")\n",
    "print(f\"MSE: {mse:.2f}\")\n",
    "print(f\"RMSE: {rmse:.2f}\")\n",
    "print(f\"R2: {r2:.4f}\")\n",
    "print(f\"MAE: {mae:.2f}\")\n",
    "\n"
   ]
  },
  {
   "cell_type": "code",
   "execution_count": 48,
   "id": "0fa47c0a",
   "metadata": {
    "ExecuteTime": {
     "end_time": "2025-04-29T06:59:47.926825Z",
     "start_time": "2025-04-29T06:59:47.658665Z"
    }
   },
   "outputs": [
    {
     "name": "stderr",
     "output_type": "stream",
     "text": [
      "C:\\Users\\Admin\\AppData\\Local\\Temp\\ipykernel_28920\\1985290073.py:52: FutureWarning: \n",
      "\n",
      "Passing `palette` without assigning `hue` is deprecated and will be removed in v0.14.0. Assign the `y` variable to `hue` and set `legend=False` for the same effect.\n",
      "\n",
      "  sns.barplot(data=grouped_importance, x='Importance', y='Group', palette='viridis')\n"
     ]
    },
    {
     "data": {
      "text/plain": "<Figure size 1200x600 with 1 Axes>",
      "image/png": "[encoded data removed]"
     },
     "metadata": {},
     "output_type": "display_data"
    }
   ],
   "source": [
    "# Get best pipeline from grid search\n",
    "best_pipeline = best_model_gb\n",
    "\n",
    "# Get preprocessor and trained model\n",
    "preprocessor = best_pipeline.named_steps['preprocessing']\n",
    "model = best_pipeline.named_steps['model']\n",
    "\n",
    "# Extract feature names after preprocessing\n",
    "# 1. Numeric feature names (not transformed)\n",
    "num_features = num_cols\n",
    "\n",
    "# 2. Categorical one-hot encoded feature names\n",
    "ohe = preprocessor.named_transformers_['cat']\n",
    "cat_features = ohe.get_feature_names_out(cat_cols)\n",
    "\n",
    "# 3. Combine both\n",
    "feature_names = np.concatenate([num_features, cat_features])\n",
    "\n",
    "# 4. Extract feature importances from the model\n",
    "importances = model.feature_importances_\n",
    "\n",
    "# 5. Create DataFrame for display\n",
    "importances_df = pd.DataFrame({\n",
    "    'Feature': feature_names,\n",
    "    'Importance': importances\n",
    "}).sort_values(by='Importance', ascending=False)\n",
    "\n",
    "# import seaborn as sns\n",
    "# import matplotlib.pyplot as plt\n",
    "\n",
    "\n",
    "# Step 2: Create DataFrame\n",
    "feat_df = pd.DataFrame({\n",
    "    'Feature': feature_names,\n",
    "    'Importance': importances\n",
    "})\n",
    "\n",
    "# Step 3: Extract base feature name for grouping\n",
    "def extract_base_feature(name):\n",
    "    if name in num_features:\n",
    "        return name\n",
    "    else:\n",
    "        return name.split('_')[0]  # e.g., \"circuit_Monaco\" -> \"circuit\"\n",
    "\n",
    "feat_df['Group'] = feat_df['Feature'].apply(extract_base_feature)\n",
    "\n",
    "# Step 4: Aggregate importance by group\n",
    "grouped_importance = feat_df.groupby('Group')['Importance'].sum().sort_values(ascending=False).reset_index()\n",
    "\n",
    "# Step 5: Plot with Seaborn\n",
    "plt.figure(figsize=(12, 6))\n",
    "sns.barplot(data=grouped_importance, x='Importance', y='Group', palette='viridis')\n",
    "\n",
    "plt.title('Grouped Feature Importances')\n",
    "plt.xlabel('Total Importance')\n",
    "plt.ylabel('Feature Group')\n",
    "plt.tight_layout()\n",
    "plt.show()"
   ]
  },
  {
   "cell_type": "code",
   "execution_count": 49,
   "id": "898b03b4",
   "metadata": {
    "ExecuteTime": {
     "end_time": "2025-04-29T06:59:58.621693Z",
     "start_time": "2025-04-29T06:59:58.604308Z"
    }
   },
   "outputs": [],
   "source": [
    "# save\n",
    "with open('gb.pkl','wb') as f:\n",
    "    pickle.dump(best_model_gb,f)\n",
    "\n",
    "# load\n",
    "# with open('model.pkl', 'rb') as f:\n",
    "#     clf2 = pickle.load(f)"
   ]
  },
  {
   "cell_type": "markdown",
   "id": "4369d240",
   "metadata": {},
   "source": [
    "<h5>Neural network</h5>"
   ]
  },
  {
   "cell_type": "code",
   "execution_count": 43,
   "id": "074cad90",
   "metadata": {
    "ExecuteTime": {
     "end_time": "2025-04-29T06:09:14.526312Z",
     "start_time": "2025-04-29T06:07:57.060723Z"
    }
   },
   "outputs": [
    {
     "name": "stdout",
     "output_type": "stream",
     "text": [
      "Iteration 1, loss = 19505293932.26761627\n",
      "Iteration 2, loss = 19339624687.98759079\n",
      "Iteration 3, loss = 17605962386.54886246\n",
      "Iteration 4, loss = 16294231027.35140038\n",
      "Iteration 5, loss = 15672856111.43644714\n",
      "Iteration 6, loss = 15270910663.63723946\n",
      "Iteration 7, loss = 15012347627.59606552\n",
      "Iteration 8, loss = 14737438137.89470863\n",
      "Iteration 9, loss = 14569363758.10036469\n",
      "Iteration 10, loss = 14367179856.93494225\n",
      "Iteration 11, loss = 14271270828.76671028\n",
      "Iteration 12, loss = 14143581782.23073387\n",
      "Iteration 13, loss = 13948901736.04241371\n",
      "Iteration 14, loss = 13861729082.59055138\n",
      "Iteration 15, loss = 13720660324.46716118\n",
      "Iteration 16, loss = 13567790375.13724899\n",
      "Iteration 17, loss = 13511319122.12802505\n",
      "Iteration 18, loss = 13422499544.94511414\n",
      "Iteration 19, loss = 13271295255.94198036\n",
      "Iteration 20, loss = 13122576954.61436844\n",
      "Iteration 21, loss = 12988546843.68262863\n",
      "Iteration 22, loss = 12888461906.48037720\n",
      "Iteration 23, loss = 12755432813.32407188\n",
      "Iteration 24, loss = 12679679182.21057320\n",
      "Iteration 25, loss = 12550465238.75006104\n",
      "Iteration 26, loss = 12432430210.29654121\n",
      "Iteration 27, loss = 12362779630.82279778\n",
      "Iteration 28, loss = 12212575904.40909576\n",
      "Iteration 29, loss = 12077405800.98266029\n",
      "Iteration 30, loss = 11992744112.91707611\n",
      "Iteration 31, loss = 11853687990.90287399\n",
      "Iteration 32, loss = 11753678441.34939766\n",
      "Iteration 33, loss = 11602555694.12056732\n",
      "Iteration 34, loss = 11529099997.51634789\n",
      "Iteration 35, loss = 11472501722.35294914\n",
      "Iteration 36, loss = 11256657471.16162109\n",
      "Iteration 37, loss = 11238044538.98482513\n",
      "Iteration 38, loss = 11049705989.88260651\n",
      "Iteration 39, loss = 10998384727.94024849\n",
      "Iteration 40, loss = 10955940050.87053108\n",
      "Iteration 41, loss = 10717948723.36318779\n",
      "Iteration 42, loss = 10695482617.25738716\n",
      "Iteration 43, loss = 10719462033.57553864\n",
      "Iteration 44, loss = 10498256227.26037216\n",
      "Iteration 45, loss = 10500998212.27366257\n",
      "Iteration 46, loss = 10248395544.36181068\n",
      "Iteration 47, loss = 10378034215.49407578\n",
      "Iteration 48, loss = 10073322127.82269478\n",
      "Iteration 49, loss = 9971179642.66296005\n",
      "Iteration 50, loss = 9870869999.26331902\n",
      "Iteration 51, loss = 9749187312.05073166\n",
      "Iteration 52, loss = 9569132359.15252686\n",
      "Iteration 53, loss = 9446028462.25028419\n",
      "Iteration 54, loss = 9582134137.74517822\n",
      "Iteration 55, loss = 9254842000.74248505\n",
      "Iteration 56, loss = 9203414202.06503487\n",
      "Iteration 57, loss = 9106340215.17923737\n",
      "Iteration 58, loss = 8828582911.97441673\n",
      "Iteration 59, loss = 8721713087.11933899\n",
      "Iteration 60, loss = 8520859809.67545700\n",
      "Iteration 61, loss = 8531581261.49745274\n",
      "Iteration 62, loss = 8654787271.75138855\n",
      "Iteration 63, loss = 8281828690.97290325\n",
      "Iteration 64, loss = 8116506536.22797966\n",
      "Iteration 65, loss = 7967496784.76287842\n",
      "Iteration 66, loss = 7889981169.26318645\n",
      "Iteration 67, loss = 7821690102.45956516\n",
      "Iteration 68, loss = 7659022330.24225903\n",
      "Iteration 69, loss = 7569742483.76389599\n",
      "Iteration 70, loss = 7499388727.63318253\n",
      "Iteration 71, loss = 7649349360.97057533\n",
      "Iteration 72, loss = 7681287449.70158482\n",
      "Iteration 73, loss = 7429245623.06285858\n",
      "Iteration 74, loss = 7246660346.76301575\n",
      "Iteration 75, loss = 6982174484.94504642\n",
      "Iteration 76, loss = 6911296129.35022831\n",
      "Iteration 77, loss = 6931307296.41501141\n",
      "Iteration 78, loss = 7050374503.42044830\n",
      "Iteration 79, loss = 6966698514.55031300\n",
      "Iteration 80, loss = 6834526937.06616116\n",
      "Iteration 81, loss = 6725313620.96316051\n",
      "Iteration 82, loss = 6995176930.05487156\n",
      "Iteration 83, loss = 7009923989.47829056\n",
      "Iteration 84, loss = 6672482538.19071579\n",
      "Iteration 85, loss = 6525910981.99104309\n",
      "Iteration 86, loss = 6734540688.80730343\n",
      "Iteration 87, loss = 6491858332.16859722\n",
      "Iteration 88, loss = 6452028254.11746311\n",
      "Iteration 89, loss = 6284020481.62737846\n",
      "Iteration 90, loss = 6150918521.41260147\n",
      "Iteration 91, loss = 6071613660.58203506\n",
      "Iteration 92, loss = 5964040216.61099529\n",
      "Iteration 93, loss = 6359012056.14414120\n",
      "Iteration 94, loss = 6223235069.88790131\n",
      "Iteration 95, loss = 6141549707.96276855\n",
      "Iteration 96, loss = 6027219032.05527115\n",
      "Iteration 97, loss = 6691755758.78256416\n",
      "Iteration 98, loss = 6311091651.41480827\n",
      "Iteration 99, loss = 6052896168.60065651\n",
      "Iteration 100, loss = 5859773310.37416458\n",
      "Iteration 101, loss = 5808496431.71609688\n",
      "Iteration 102, loss = 6185901512.86152554\n",
      "Iteration 103, loss = 6245164492.64663792\n",
      "Iteration 104, loss = 5774303045.13114548\n",
      "Iteration 105, loss = 5745709796.49635696\n",
      "Iteration 106, loss = 5998945643.06652164\n",
      "Iteration 107, loss = 5742852947.49056339\n",
      "Iteration 108, loss = 5686775399.51174927\n",
      "Iteration 109, loss = 5537806852.89856052\n",
      "Iteration 110, loss = 5564687354.59995270\n",
      "Iteration 111, loss = 5549574880.39274216\n",
      "Iteration 112, loss = 5441687782.62380695\n",
      "Iteration 113, loss = 5558802166.07016754\n",
      "Iteration 114, loss = 5957736642.83076382\n",
      "Iteration 115, loss = 5639555648.41142178\n",
      "Iteration 116, loss = 5453618908.95210266\n",
      "Iteration 117, loss = 5759163569.46325588\n",
      "Iteration 118, loss = 5451299483.52134895\n",
      "Iteration 119, loss = 5663522084.62998581\n",
      "Iteration 120, loss = 5609893408.12435436\n",
      "Iteration 121, loss = 5314064848.15989399\n",
      "Iteration 122, loss = 5506060701.96125889\n",
      "Iteration 123, loss = 5404088474.94034863\n",
      "Iteration 124, loss = 5248518833.41461945\n",
      "Iteration 125, loss = 5288297640.14240074\n",
      "Iteration 126, loss = 5207641651.47298050\n",
      "Iteration 127, loss = 5695413119.06765652\n",
      "Iteration 128, loss = 5438552363.83655167\n",
      "Iteration 129, loss = 5216296763.69562721\n",
      "Iteration 130, loss = 5364949771.02804756\n",
      "Iteration 131, loss = 5143483963.29098701\n",
      "Iteration 132, loss = 5098784255.60300064\n",
      "Iteration 133, loss = 5326698226.24215221\n",
      "Iteration 134, loss = 5032916837.84120274\n",
      "Iteration 135, loss = 5030147649.99772167\n",
      "Iteration 136, loss = 4905185338.54359531\n",
      "Iteration 137, loss = 4923154773.11730862\n",
      "Iteration 138, loss = 4897790636.54475594\n",
      "Iteration 139, loss = 5200471756.95915699\n",
      "Iteration 140, loss = 5031419467.47635841\n",
      "Iteration 141, loss = 5134251758.07055283\n",
      "Iteration 142, loss = 5174949451.98965359\n",
      "Iteration 143, loss = 5013887709.53687096\n",
      "Iteration 144, loss = 6389989606.01468563\n",
      "Iteration 145, loss = 5566061246.50438976\n",
      "Iteration 146, loss = 5223249459.38308907\n",
      "Iteration 147, loss = 5046954011.70814419\n",
      "Iteration 148, loss = 4949887031.93891430\n",
      "Iteration 149, loss = 4866358413.82034874\n",
      "Iteration 150, loss = 5375702177.12901306\n",
      "Iteration 151, loss = 5382691967.42233181\n",
      "Iteration 152, loss = 4864172784.69407845\n",
      "Iteration 153, loss = 4823459546.87802601\n",
      "Iteration 154, loss = 4864297766.96557426\n",
      "Iteration 155, loss = 4674471587.47642708\n",
      "Iteration 156, loss = 4536207454.79846191\n",
      "Iteration 157, loss = 4617511352.37069988\n",
      "Iteration 158, loss = 4998167792.64249897\n",
      "Iteration 159, loss = 4611333043.87857533\n",
      "Iteration 160, loss = 4871530332.10971928\n",
      "Iteration 161, loss = 5237389411.18475723\n",
      "Iteration 162, loss = 4570092175.19871998\n",
      "Iteration 163, loss = 4479823821.61721420\n",
      "Iteration 164, loss = 4532571263.44393826\n",
      "Iteration 165, loss = 4606405972.72335529\n",
      "Iteration 166, loss = 4427530521.08787537\n",
      "Iteration 167, loss = 4447570184.91182518\n",
      "Iteration 168, loss = 4583737479.08493519\n",
      "Iteration 169, loss = 4381758928.55707836\n",
      "Iteration 170, loss = 4412804939.84527302\n",
      "Iteration 171, loss = 4220743280.54858732\n",
      "Iteration 172, loss = 4365428297.92581081\n",
      "Iteration 173, loss = 4466305495.50216770\n",
      "Iteration 174, loss = 4556772444.36679935\n",
      "Iteration 175, loss = 4636051441.24519920\n",
      "Iteration 176, loss = 4434760300.74870682\n",
      "Iteration 177, loss = 4535320243.93014717\n",
      "Iteration 178, loss = 4357355056.34918213\n",
      "Iteration 179, loss = 4248491535.16696024\n",
      "Iteration 180, loss = 4207446054.51592922\n",
      "Iteration 181, loss = 4196254928.81229305\n",
      "Iteration 182, loss = 4350085417.05554008\n",
      "Iteration 183, loss = 4224630732.77403784\n",
      "Iteration 184, loss = 4287161350.27083683\n",
      "Iteration 185, loss = 4525209208.86047649\n",
      "Iteration 186, loss = 5090949877.70704842\n",
      "Iteration 187, loss = 4818256478.32653999\n",
      "Iteration 188, loss = 4337447340.01304436\n",
      "Iteration 189, loss = 4170258141.91451740\n",
      "Iteration 190, loss = 4127475108.11647129\n",
      "Iteration 191, loss = 4001655073.93810987\n",
      "Iteration 192, loss = 4172672221.85661030\n",
      "Iteration 193, loss = 4311627637.40829086\n",
      "Iteration 194, loss = 4090578983.13626385\n",
      "Iteration 195, loss = 4144693808.28191423\n",
      "Iteration 196, loss = 3956482737.17022276\n",
      "Iteration 197, loss = 3801347223.98446083\n",
      "Iteration 198, loss = 4383036394.21957970\n",
      "Iteration 199, loss = 4111144871.24741268\n",
      "Iteration 200, loss = 4320671033.96247005\n",
      "Iteration 201, loss = 3989051261.06828403\n",
      "Iteration 202, loss = 4217839422.99416113\n",
      "Iteration 203, loss = 3867589093.29139948\n",
      "Iteration 204, loss = 4129312662.73724556\n",
      "Iteration 205, loss = 3926967393.30820370\n",
      "Iteration 206, loss = 3920357697.03882074\n",
      "Iteration 207, loss = 3770026270.47614956\n",
      "Iteration 208, loss = 3746139928.93865252\n",
      "Iteration 209, loss = 3689046795.14023256\n",
      "Iteration 210, loss = 3689962298.09318209\n",
      "Iteration 211, loss = 4108786953.27386284\n",
      "Iteration 212, loss = 3728665090.91047382\n",
      "Iteration 213, loss = 3599000819.07381010\n",
      "Iteration 214, loss = 4047228108.32590199\n",
      "Iteration 215, loss = 3702601321.40692568\n",
      "Iteration 216, loss = 3572445272.93760920\n",
      "Iteration 217, loss = 3466885560.77321911\n",
      "Iteration 218, loss = 3618034499.52500534\n",
      "Iteration 219, loss = 3460571168.16140556\n",
      "Iteration 220, loss = 3713132309.37861681\n",
      "Iteration 221, loss = 3436487445.00242138\n",
      "Iteration 222, loss = 3538755710.42490959\n",
      "Iteration 223, loss = 3638613337.89709473\n",
      "Iteration 224, loss = 3762283622.82772684\n",
      "Iteration 225, loss = 3516489545.80674410\n",
      "Iteration 226, loss = 3456626979.90891123\n",
      "Iteration 227, loss = 3511309984.01626587\n",
      "Iteration 228, loss = 3330874742.46218872\n",
      "Iteration 229, loss = 3425700507.39077616\n",
      "Iteration 230, loss = 3283191439.65089989\n",
      "Iteration 231, loss = 3220936547.37071371\n",
      "Iteration 232, loss = 3223782747.59571075\n",
      "Iteration 233, loss = 3367783112.08221626\n",
      "Iteration 234, loss = 3454957326.68518257\n",
      "Iteration 235, loss = 3505028370.23736429\n",
      "Iteration 236, loss = 3325046605.14630890\n",
      "Iteration 237, loss = 3157352192.37817621\n",
      "Iteration 238, loss = 3227100884.66337681\n",
      "Iteration 239, loss = 3178343628.50459719\n",
      "Iteration 240, loss = 3209668529.69763422\n",
      "Iteration 241, loss = 4863809416.45406723\n",
      "Iteration 242, loss = 3910920640.62198162\n",
      "Iteration 243, loss = 3271100888.76694822\n",
      "Iteration 244, loss = 3230513487.15283346\n",
      "Iteration 245, loss = 3199419893.28755045\n",
      "Iteration 246, loss = 3336805645.69335413\n",
      "Iteration 247, loss = 3009467182.22933149\n",
      "Iteration 248, loss = 2933794309.87060308\n",
      "Iteration 249, loss = 2827160729.52597618\n",
      "Iteration 250, loss = 5303006292.78852463\n",
      "Iteration 251, loss = 3895346155.57360792\n",
      "Iteration 252, loss = 3185583367.06218147\n",
      "Iteration 253, loss = 3018881403.17292738\n",
      "Iteration 254, loss = 2903269253.67657518\n",
      "Iteration 255, loss = 2824195693.78417301\n",
      "Iteration 256, loss = 2795608988.81518745\n",
      "Iteration 257, loss = 2884330161.71979141\n",
      "Iteration 258, loss = 2912673815.70459032\n",
      "Iteration 259, loss = 2856181215.99266052\n",
      "Iteration 260, loss = 2752956609.12890577\n",
      "Iteration 261, loss = 2643566608.54565573\n",
      "Iteration 262, loss = 2698198579.98620272\n",
      "Iteration 263, loss = 2958691955.94688892\n",
      "Iteration 264, loss = 2927462742.48433018\n",
      "Iteration 265, loss = 2718903437.42407274\n",
      "Iteration 266, loss = 2567911501.56185341\n",
      "Iteration 267, loss = 2630162961.83967733\n",
      "Iteration 268, loss = 2619761955.37856674\n",
      "Iteration 269, loss = 2461983414.05593824\n",
      "Iteration 270, loss = 2456557431.63505650\n",
      "Iteration 271, loss = 2874758420.54355574\n",
      "Iteration 272, loss = 2569539434.89872503\n",
      "Iteration 273, loss = 2522548768.81512928\n",
      "Iteration 274, loss = 2365258559.70556307\n",
      "Iteration 275, loss = 2322792185.94887781\n",
      "Iteration 276, loss = 2325457280.78137445\n",
      "Iteration 277, loss = 2298110918.36156845\n",
      "Iteration 278, loss = 2330281316.11435080\n",
      "Iteration 279, loss = 2297722374.14846706\n",
      "Iteration 280, loss = 2281432630.13609505\n",
      "Iteration 281, loss = 2177211104.33395290\n",
      "Iteration 282, loss = 2153937108.67203999\n",
      "Iteration 283, loss = 2228064638.80535507\n",
      "Iteration 284, loss = 2118800196.13699031\n",
      "Iteration 285, loss = 2145553286.11755371\n",
      "Iteration 286, loss = 2094457631.65329337\n",
      "Iteration 287, loss = 2174033626.45851040\n",
      "Iteration 288, loss = 2158138234.84352589\n",
      "Iteration 289, loss = 2092173755.46092486\n",
      "Iteration 290, loss = 2031476693.94824409\n",
      "Iteration 291, loss = 2110825008.43737411\n",
      "Iteration 292, loss = 2142393035.97466040\n",
      "Iteration 293, loss = 2229641679.11939764\n",
      "Iteration 294, loss = 2100745974.13589859\n",
      "Iteration 295, loss = 2389914029.40689230\n",
      "Iteration 296, loss = 2674811269.40188074\n",
      "Iteration 297, loss = 2142550581.49652672\n",
      "Iteration 298, loss = 2336937379.99744415\n",
      "Iteration 299, loss = 1942594145.08653712\n",
      "Iteration 300, loss = 1806695920.06264210\n",
      "Iteration 301, loss = 1786355731.52844501\n",
      "Iteration 302, loss = 1809464115.72242713\n",
      "Iteration 303, loss = 1770097005.90279365\n",
      "Iteration 304, loss = 2796799716.38770962\n",
      "Iteration 305, loss = 2594733218.06375265\n",
      "Iteration 306, loss = 2011704750.42532444\n",
      "Iteration 307, loss = 1809756793.61015844\n",
      "Iteration 308, loss = 1918700853.63505507\n",
      "Iteration 309, loss = 1926854168.38746333\n",
      "Iteration 310, loss = 1784398912.58941269\n",
      "Iteration 311, loss = 1609848235.07888675\n",
      "Iteration 312, loss = 1699978925.88362288\n",
      "Iteration 313, loss = 1658383658.49886465\n",
      "Iteration 314, loss = 1617112645.41073513\n",
      "Iteration 315, loss = 2042631712.13377023\n",
      "Iteration 316, loss = 1745489367.59910297\n",
      "Iteration 317, loss = 2105992644.74837685\n",
      "Iteration 318, loss = 1555996479.65616655\n",
      "Iteration 319, loss = 1377037532.66274381\n",
      "Iteration 320, loss = 1360583210.44885612\n",
      "Iteration 321, loss = 1303949900.85651827\n",
      "Iteration 322, loss = 1360230361.30687475\n",
      "Iteration 323, loss = 1313020783.53958583\n",
      "Iteration 324, loss = 1382026925.38298631\n",
      "Iteration 325, loss = 1609073741.43930769\n",
      "Iteration 326, loss = 1435324405.87348080\n",
      "Iteration 327, loss = 1678814135.92762566\n",
      "Iteration 328, loss = 1451562999.98873425\n",
      "Iteration 329, loss = 1310691708.49704599\n",
      "Iteration 330, loss = 1471966394.92942142\n",
      "Iteration 331, loss = 1261949791.69285750\n",
      "Iteration 332, loss = 1660296473.29841900\n",
      "Iteration 333, loss = 1434593926.78499889\n",
      "Iteration 334, loss = 1256999821.24879503\n",
      "Iteration 335, loss = 1161014826.55797386\n",
      "Iteration 336, loss = 1203171374.83737350\n",
      "Iteration 337, loss = 1284306916.59436607\n",
      "Iteration 338, loss = 1235123331.96368790\n",
      "Iteration 339, loss = 1495356448.35315347\n",
      "Iteration 340, loss = 1191391994.67052698\n",
      "Iteration 341, loss = 1070862041.06065118\n",
      "Iteration 342, loss = 1037636179.80744994\n",
      "Iteration 343, loss = 1030875066.33948326\n",
      "Iteration 344, loss = 963388750.68110085\n",
      "Iteration 345, loss = 948531050.24206972\n",
      "Iteration 346, loss = 1097186077.11989832\n",
      "Iteration 347, loss = 1554544073.50940752\n",
      "Iteration 348, loss = 1945110291.82271051\n",
      "Iteration 349, loss = 1216803174.48653650\n",
      "Iteration 350, loss = 1131539935.03745151\n",
      "Iteration 351, loss = 3178785637.02111721\n",
      "Iteration 352, loss = 1905295360.56969643\n",
      "Iteration 353, loss = 1446377495.91075873\n",
      "Iteration 354, loss = 1233968628.79632497\n",
      "Iteration 355, loss = 1204811525.45321631\n",
      "Iteration 356, loss = 1347961220.62650394\n",
      "Training loss did not improve more than tol=0.000100 for 10 consecutive epochs. Stopping.\n",
      "Final Model Performance:\n",
      "MSE: 25735228130.25\n",
      "RMSE: 160422.03\n",
      "R2: -0.0239\n",
      "MAE: 66722.02\n"
     ]
    }
   ],
   "source": [
    "\n",
    "# Identify column types\n",
    "num_cols = X_train.select_dtypes(exclude='object').columns.tolist()\n",
    "cat_cols = X_train.select_dtypes(include='object').columns.tolist()\n",
    "\n",
    "# Preprocessor: OHE for categorical, StandardScaler for numeric\n",
    "preprocessor = ColumnTransformer([\n",
    "    ('num', StandardScaler(), num_cols),\n",
    "    ('cat', OneHotEncoder(handle_unknown='ignore', sparse_output=False), cat_cols)\n",
    "])\n",
    "\n",
    "# Full pipeline\n",
    "pipeline = Pipeline([\n",
    "    ('preprocessing', preprocessor),\n",
    "    ('model', MLPRegressor(random_state=42, hidden_layer_sizes=(100, 100, 100, 100, 100), activation='relu', alpha=0.0001, learning_rate_init=0.001, solver='adam',max_iter=500 , verbose=1))\n",
    "])\n",
    "\n",
    "param_grid = {\n",
    "    'model__hidden_layer_sizes': [ (50, 50), (100, 50)],\n",
    "    'model__activation': ['relu', 'tanh'],\n",
    "    'model__alpha': [0.0001, 0.001, 0.01],\n",
    "    'model__learning_rate_init': [0.001, 0.01],\n",
    "    'model__solver': ['adam'],\n",
    "}\n",
    "# Cross-validation\n",
    "# k = 5\n",
    "# cv = KFold(n_splits=k, shuffle=True, random_state=42)\n",
    "# \n",
    "# grid_search = GridSearchCV(estimator=pipeline,\n",
    "#                            param_grid=param_grid,\n",
    "#                            cv=cv,\n",
    "#                            scoring='neg_mean_squared_error',\n",
    "#                            verbose=1,\n",
    "#                            n_jobs=-1)\n",
    "\n",
    "# grid_search.fit(X, y)\n",
    "\n",
    "\n",
    "\n",
    "# print(\"Best Parameters:\", grid_search.best_params_)\n",
    "# best_rmse = np.sqrt(-grid_search.best_score_)\n",
    "# print(\"Best RMSE:\", best_rmse)\n",
    "\n",
    "\n",
    "# Evaluate on training set (optional)\n",
    "\n",
    "# best_model_nn = grid_search.best_estimator_\n",
    "best_model_nn = pipeline.fit(X_train, y_train)\n",
    "y_pred = best_model_nn.predict(X_test)\n",
    "\n",
    "mse = mean_squared_error(y_test, y_pred)\n",
    "rmse = np.sqrt(mse)\n",
    "r2 = r2_score(y_test, y_pred)\n",
    "mae = mean_absolute_error(y_test, y_pred)\n",
    "\n",
    "print(\"Final Model Performance:\")\n",
    "print(f\"MSE: {mse:.2f}\")\n",
    "print(f\"RMSE: {rmse:.2f}\")\n",
    "print(f\"R2: {r2:.4f}\")\n",
    "print(f\"MAE: {mae:.2f}\")"
   ]
  },
  {
   "cell_type": "code",
   "outputs": [
    {
     "name": "stdout",
     "output_type": "stream",
     "text": [
      "Final Model Performance:\n",
      "MSE: 13042728856.10\n",
      "RMSE: 114204.77\n",
      "R2: 0.4811\n",
      "MAE: 51377.28\n"
     ]
    }
   ],
   "source": [
    "# best_model_nn = grid_search.best_estimator_\n",
    "best_model_nn = pipeline.fit(X_train, y_train)\n",
    "y_pred = best_model_nn.predict(X_test)\n",
    "\n",
    "mse = mean_squared_error(y_test, y_pred)\n",
    "rmse = np.sqrt(mse)\n",
    "r2 = r2_score(y_test, y_pred)\n",
    "mae = mean_absolute_error(y_test, y_pred)\n",
    "\n",
    "print(\"Final Model Performance:\")\n",
    "print(f\"MSE: {mse:.2f}\")\n",
    "print(f\"RMSE: {rmse:.2f}\")\n",
    "print(f\"R2: {r2:.4f}\")\n",
    "print(f\"MAE: {mae:.2f}\")"
   ],
   "metadata": {
    "collapsed": false,
    "ExecuteTime": {
     "end_time": "2025-04-29T07:00:45.711168Z",
     "start_time": "2025-04-29T07:00:40.555394Z"
    }
   },
   "id": "c4c2036a61270943",
   "execution_count": 50
  },
  {
   "cell_type": "code",
   "execution_count": 36,
   "id": "d9717f0a",
   "metadata": {
    "ExecuteTime": {
     "end_time": "2025-04-29T05:50:35.245689Z",
     "start_time": "2025-04-29T05:50:35.239275Z"
    }
   },
   "outputs": [],
   "source": [
    "# save\n",
    "with open('nn.pkl','wb') as f:\n",
    "    pickle.dump(best_model_nn,f)\n",
    "\n",
    "# load\n",
    "# with open('model.pkl', 'rb') as f:\n",
    "#     clf2 = pickle.load(f)"
   ]
  },
  {
   "cell_type": "code",
   "outputs": [],
   "source": [],
   "metadata": {
    "collapsed": false
   },
   "id": "446a69fb8b38296c"
  }
 ],
 "metadata": {
  "kernelspec": {
   "display_name": "base",
   "language": "python",
   "name": "python3"
  },
  "language_info": {
   "codemirror_mode": {
    "name": "ipython",
    "version": 3
   },
   "file_extension": ".py",
   "mimetype": "text/x-python",
   "name": "python",
   "nbconvert_exporter": "python",
   "pygments_lexer": "ipython3",
   "version": "3.12.7"
  }
 },
 "nbformat": 4,
 "nbformat_minor": 5
}
