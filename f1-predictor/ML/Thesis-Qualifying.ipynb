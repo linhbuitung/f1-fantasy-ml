{
 "cells": [
  {
   "cell_type": "markdown",
   "id": "18b0a525-6f52-4567-9c79-c733ab7d5901",
   "metadata": {},
   "source": [
    "<h2>Formula 1 Grand Prix qualifying prediction</h2>"
   ]
  },
  {
   "cell_type": "code",
   "execution_count": 1,
   "id": "48e1dea0-9ff1-4422-8034-9f7e4c08c1ec",
   "metadata": {
    "ExecuteTime": {
     "end_time": "2025-04-29T07:13:20.958111Z",
     "start_time": "2025-04-29T07:13:20.719326Z"
    }
   },
   "outputs": [],
   "source": [
    "import pandas as pd\n",
    "import numpy as np\n",
    "import matplotlib.pyplot as plt\n",
    "import seaborn as sns\n",
    "import pickle\n",
    "import re\n",
    "from sklearn.compose import ColumnTransformer\n",
    "from sklearn.pipeline import Pipeline\n",
    "from sklearn.preprocessing import StandardScaler,LabelEncoder,OneHotEncoder\n",
    "from sklearn.model_selection import cross_val_score,StratifiedKFold,RandomizedSearchCV,train_test_split,KFold,GridSearchCV\n",
    "from sklearn.linear_model import LinearRegression\n",
    "from sklearn.ensemble import RandomForestRegressor,  GradientBoostingRegressor\n",
    "from sklearn.neural_network import MLPRegressor\n",
    "from sklearn.svm import SVC\n",
    "from sklearn.naive_bayes import GaussianNB\n",
    "from sklearn.metrics import mean_squared_error,r2_score,root_mean_squared_error,mean_absolute_error\n",
    "import pickle\n",
    "\n",
    "\n",
    "plt.style.use('bmh')\n",
    "pd.set_option('display.float_format', '{:.2f}'.format)"
   ]
  },
  {
   "cell_type": "markdown",
   "id": "08e4e060",
   "metadata": {},
   "source": [
    "<h3>Data cleaning</h3>"
   ]
  },
  {
   "cell_type": "code",
   "execution_count": 2,
   "id": "6ed71c87-3a20-4aab-b31a-fd226203245e",
   "metadata": {
    "ExecuteTime": {
     "end_time": "2025-04-29T07:13:23.080509Z",
     "start_time": "2025-04-29T07:13:22.633729Z"
    }
   },
   "outputs": [],
   "source": [
    "results = pd.read_csv(r'data/results.csv')\n",
    "races = pd.read_csv(r'data/races.csv')\n",
    "qualifyings = pd.read_csv(r'data/qualifying.csv')\n",
    "drivers = pd.read_csv(r'data/drivers.csv')\n",
    "constructors = pd.read_csv(r'data/constructors.csv')\n",
    "circuits = pd.read_csv(r'data/circuits.csv')\n",
    "status = pd.read_csv(r'data/status.csv')\n",
    "laptimes = pd.read_csv(r'data/lap_times.csv')\n",
    "\n",
    "\n",
    "countries = pd.read_csv(r'data/countries/countries.csv')"
   ]
  },
  {
   "cell_type": "code",
   "execution_count": 3,
   "id": "c9b2a28b",
   "metadata": {
    "ExecuteTime": {
     "end_time": "2025-04-29T07:13:23.272535Z",
     "start_time": "2025-04-29T07:13:23.189011Z"
    }
   },
   "outputs": [],
   "source": [
    "df1 = pd.merge(races,results,how='left',on=['raceId'], suffixes=('_race', '_result'))\n",
    "df2 = pd.merge(df1,qualifyings,how='left',on=['raceId','driverId','constructorId'], suffixes=('', '_qualifying'))\n",
    "df3 = pd.merge(df2,drivers,how='left',on=['driverId'], suffixes=('', '_driver'))\n",
    "df4 = pd.merge(df3,constructors,how='left',on=['constructorId'], suffixes=('', '_constructor'))\n",
    "df5 = pd.merge(df4,circuits,how='left',on=['circuitId'], suffixes=('', '_circuit'))"
   ]
  },
  {
   "cell_type": "code",
   "execution_count": 4,
   "id": "eb7a858b",
   "metadata": {
    "ExecuteTime": {
     "end_time": "2025-04-29T07:13:23.403209Z",
     "start_time": "2025-04-29T07:13:23.394739Z"
    }
   },
   "outputs": [],
   "source": [
    "\n",
    "data = df5;\n",
    "#drop the columns which are not important\n",
    "\n",
    "\n",
    "data = data.drop(['raceId',  'round', 'circuitId', 'name', 'time_race', 'milliseconds',\n",
    "       'url', 'fp1_date', 'fp1_time', 'fp2_date', 'fp2_time', 'fp3_date',\n",
    "       'fp3_time','quali_date', 'quali_time', 'sprint_date', 'sprint_time','weather',\n",
    "       'resultId', 'constructorId', 'number', 'grid', 'position',\n",
    "       'positionText','positionOrder', 'points', 'laps','time_result',\n",
    "        'fastestLap', 'rank', 'fastestLapTime',\n",
    "       'fastestLapSpeed', 'statusId', 'qualifyId', 'number_qualifying',\n",
    "       'position_qualifying', 'driverRef', 'number_driver',\n",
    "       'code',   'url_driver',\n",
    "       'constructorRef', \n",
    "       'url_constructor', 'circuitRef',  'location',\n",
    "       'lat', 'lng', 'alt', 'url_circuit'\n",
    "      ],axis=1)"
   ]
  },
  {
   "cell_type": "code",
   "execution_count": 5,
   "id": "11268b05",
   "metadata": {
    "ExecuteTime": {
     "end_time": "2025-04-29T07:13:23.570070Z",
     "start_time": "2025-04-29T07:13:23.557220Z"
    }
   },
   "outputs": [],
   "source": [
    "testData = data.copy()\n",
    "#print test data where year = 2020 and name_circuit = 'Bahrain International Circuit'\n",
    "testData = testData[(testData['year'] == 2020) & (testData['name_circuit'] == 'Bahrain International Circuit')] \n",
    "\n",
    "#export test data to csv\n",
    "#testData.to_csv('testData.csv', index=False)\n"
   ]
  },
  {
   "cell_type": "code",
   "execution_count": 6,
   "id": "4f655bf3",
   "metadata": {
    "ExecuteTime": {
     "end_time": "2025-04-29T07:13:23.788940Z",
     "start_time": "2025-04-29T07:13:23.745463Z"
    }
   },
   "outputs": [],
   "source": [
    "#rename the columns\n",
    "data.rename(columns={'name':'race_name','name_constructor':'constructor',\n",
    "                     'nationality':'driver_nationality','nationality_constructor':'constructor_nationality', 'name_circuit' :'circuit', 'country': 'country_circuit', 'type': 'type_circuit'},inplace=True)\n",
    "data['driver'] = data['forename']+' '+data['surname']\n",
    "#drop forename columns and surname columns\n",
    "data = data.drop(['forename','surname'],axis=1)\n",
    "\n",
    "def convert_to_full_date(date_str):\n",
    "    day, month, year = date_str.split('-')\n",
    "    year = int(year)\n",
    "    # Assume years < 50 are in 2000s, otherwise in 1900s\n",
    "    full_year = 2000 + year if year < 50 else 1900 + year\n",
    "    return f\"{day}-{month}-{full_year}\"\n",
    "# Specify the date format explicitly\n",
    "data['full_date'] = data['date'].apply(convert_to_full_date)\n",
    "data['date'] = pd.to_datetime(data['full_date'], format='%d-%m-%Y', errors='coerce')\n",
    "data = data.drop(['full_date'],axis=1)\n",
    "data['dob'] = pd.to_datetime(data['dob'], format='%Y-%m-%d', errors='coerce')\n"
   ]
  },
  {
   "cell_type": "code",
   "outputs": [
    {
     "data": {
      "text/plain": "       year       date  driverId        q1        q2        q3        dob  \\\n0      1950 1950-05-13       642       NaN       NaN       NaN 1906-10-30   \n1      1950 1950-05-13       786       NaN       NaN       NaN 1898-06-09   \n2      1950 1950-05-13       686       NaN       NaN       NaN 1911-07-02   \n3      1950 1950-05-13       704       NaN       NaN       NaN 1904-10-08   \n4      1950 1950-05-13       627       NaN       NaN       NaN 1905-11-05   \n...     ...        ...       ...       ...       ...       ...        ...   \n26754  2024 2024-12-08       825  1:23.632  1:23.877        \\N 1992-10-05   \n26755  2024 2024-12-08       859  1:23.733  1:23.472        \\N 2002-02-11   \n26756  2024 2024-12-08       822  1:23.481  1:23.341  1:23.204 1989-08-28   \n26757  2024 2024-12-08       861  1:23.912        \\N        \\N 2003-05-27   \n26758  2024 2024-12-08       815  1:23.559  1:23.379  1:23.264 1990-01-26   \n\n      driver_nationality   constructor constructor_nationality  \\\n0                Italian    Alfa Romeo                   Swiss   \n1                Italian    Alfa Romeo                   Swiss   \n2                British    Alfa Romeo                   Swiss   \n3                 French   Talbot-Lago                  French   \n4                 French   Talbot-Lago                  French   \n...                  ...           ...                     ...   \n26754             Danish  Haas F1 Team                American   \n26755      New Zealander    RB F1 Team                 Italian   \n26756            Finnish        Sauber                   Swiss   \n26757        Argentinian      Williams                 British   \n26758            Mexican      Red Bull                Austrian   \n\n                   circuit country_circuit  type_circuit            driver  \n0      Silverstone Circuit              UK  Race circuit       Nino Farina  \n1      Silverstone Circuit              UK  Race circuit     Luigi Fagioli  \n2      Silverstone Circuit              UK  Race circuit       Reg Parnell  \n3      Silverstone Circuit              UK  Race circuit    Yves Cabantous  \n4      Silverstone Circuit              UK  Race circuit      Louis Rosier  \n...                    ...             ...           ...               ...  \n26754   Yas Marina Circuit             UAE  Race circuit   Kevin Magnussen  \n26755   Yas Marina Circuit             UAE  Race circuit       Liam Lawson  \n26756   Yas Marina Circuit             UAE  Race circuit   Valtteri Bottas  \n26757   Yas Marina Circuit             UAE  Race circuit  Franco Colapinto  \n26758   Yas Marina Circuit             UAE  Race circuit      Sergio Pérez  \n\n[26759 rows x 14 columns]",
      "text/html": "<div>\n<style scoped>\n    .dataframe tbody tr th:only-of-type {\n        vertical-align: middle;\n    }\n\n    .dataframe tbody tr th {\n        vertical-align: top;\n    }\n\n    .dataframe thead th {\n        text-align: right;\n    }\n</style>\n<table border=\"1\" class=\"dataframe\">\n  <thead>\n    <tr style=\"text-align: right;\">\n      <th></th>\n      <th>year</th>\n      <th>date</th>\n      <th>driverId</th>\n      <th>q1</th>\n      <th>q2</th>\n      <th>q3</th>\n      <th>dob</th>\n      <th>driver_nationality</th>\n      <th>constructor</th>\n      <th>constructor_nationality</th>\n      <th>circuit</th>\n      <th>country_circuit</th>\n      <th>type_circuit</th>\n      <th>driver</th>\n    </tr>\n  </thead>\n  <tbody>\n    <tr>\n      <th>0</th>\n      <td>1950</td>\n      <td>1950-05-13</td>\n      <td>642</td>\n      <td>NaN</td>\n      <td>NaN</td>\n      <td>NaN</td>\n      <td>1906-10-30</td>\n      <td>Italian</td>\n      <td>Alfa Romeo</td>\n      <td>Swiss</td>\n      <td>Silverstone Circuit</td>\n      <td>UK</td>\n      <td>Race circuit</td>\n      <td>Nino Farina</td>\n    </tr>\n    <tr>\n      <th>1</th>\n      <td>1950</td>\n      <td>1950-05-13</td>\n      <td>786</td>\n      <td>NaN</td>\n      <td>NaN</td>\n      <td>NaN</td>\n      <td>1898-06-09</td>\n      <td>Italian</td>\n      <td>Alfa Romeo</td>\n      <td>Swiss</td>\n      <td>Silverstone Circuit</td>\n      <td>UK</td>\n      <td>Race circuit</td>\n      <td>Luigi Fagioli</td>\n    </tr>\n    <tr>\n      <th>2</th>\n      <td>1950</td>\n      <td>1950-05-13</td>\n      <td>686</td>\n      <td>NaN</td>\n      <td>NaN</td>\n      <td>NaN</td>\n      <td>1911-07-02</td>\n      <td>British</td>\n      <td>Alfa Romeo</td>\n      <td>Swiss</td>\n      <td>Silverstone Circuit</td>\n      <td>UK</td>\n      <td>Race circuit</td>\n      <td>Reg Parnell</td>\n    </tr>\n    <tr>\n      <th>3</th>\n      <td>1950</td>\n      <td>1950-05-13</td>\n      <td>704</td>\n      <td>NaN</td>\n      <td>NaN</td>\n      <td>NaN</td>\n      <td>1904-10-08</td>\n      <td>French</td>\n      <td>Talbot-Lago</td>\n      <td>French</td>\n      <td>Silverstone Circuit</td>\n      <td>UK</td>\n      <td>Race circuit</td>\n      <td>Yves Cabantous</td>\n    </tr>\n    <tr>\n      <th>4</th>\n      <td>1950</td>\n      <td>1950-05-13</td>\n      <td>627</td>\n      <td>NaN</td>\n      <td>NaN</td>\n      <td>NaN</td>\n      <td>1905-11-05</td>\n      <td>French</td>\n      <td>Talbot-Lago</td>\n      <td>French</td>\n      <td>Silverstone Circuit</td>\n      <td>UK</td>\n      <td>Race circuit</td>\n      <td>Louis Rosier</td>\n    </tr>\n    <tr>\n      <th>...</th>\n      <td>...</td>\n      <td>...</td>\n      <td>...</td>\n      <td>...</td>\n      <td>...</td>\n      <td>...</td>\n      <td>...</td>\n      <td>...</td>\n      <td>...</td>\n      <td>...</td>\n      <td>...</td>\n      <td>...</td>\n      <td>...</td>\n      <td>...</td>\n    </tr>\n    <tr>\n      <th>26754</th>\n      <td>2024</td>\n      <td>2024-12-08</td>\n      <td>825</td>\n      <td>1:23.632</td>\n      <td>1:23.877</td>\n      <td>\\N</td>\n      <td>1992-10-05</td>\n      <td>Danish</td>\n      <td>Haas F1 Team</td>\n      <td>American</td>\n      <td>Yas Marina Circuit</td>\n      <td>UAE</td>\n      <td>Race circuit</td>\n      <td>Kevin Magnussen</td>\n    </tr>\n    <tr>\n      <th>26755</th>\n      <td>2024</td>\n      <td>2024-12-08</td>\n      <td>859</td>\n      <td>1:23.733</td>\n      <td>1:23.472</td>\n      <td>\\N</td>\n      <td>2002-02-11</td>\n      <td>New Zealander</td>\n      <td>RB F1 Team</td>\n      <td>Italian</td>\n      <td>Yas Marina Circuit</td>\n      <td>UAE</td>\n      <td>Race circuit</td>\n      <td>Liam Lawson</td>\n    </tr>\n    <tr>\n      <th>26756</th>\n      <td>2024</td>\n      <td>2024-12-08</td>\n      <td>822</td>\n      <td>1:23.481</td>\n      <td>1:23.341</td>\n      <td>1:23.204</td>\n      <td>1989-08-28</td>\n      <td>Finnish</td>\n      <td>Sauber</td>\n      <td>Swiss</td>\n      <td>Yas Marina Circuit</td>\n      <td>UAE</td>\n      <td>Race circuit</td>\n      <td>Valtteri Bottas</td>\n    </tr>\n    <tr>\n      <th>26757</th>\n      <td>2024</td>\n      <td>2024-12-08</td>\n      <td>861</td>\n      <td>1:23.912</td>\n      <td>\\N</td>\n      <td>\\N</td>\n      <td>2003-05-27</td>\n      <td>Argentinian</td>\n      <td>Williams</td>\n      <td>British</td>\n      <td>Yas Marina Circuit</td>\n      <td>UAE</td>\n      <td>Race circuit</td>\n      <td>Franco Colapinto</td>\n    </tr>\n    <tr>\n      <th>26758</th>\n      <td>2024</td>\n      <td>2024-12-08</td>\n      <td>815</td>\n      <td>1:23.559</td>\n      <td>1:23.379</td>\n      <td>1:23.264</td>\n      <td>1990-01-26</td>\n      <td>Mexican</td>\n      <td>Red Bull</td>\n      <td>Austrian</td>\n      <td>Yas Marina Circuit</td>\n      <td>UAE</td>\n      <td>Race circuit</td>\n      <td>Sergio Pérez</td>\n    </tr>\n  </tbody>\n</table>\n<p>26759 rows × 14 columns</p>\n</div>"
     },
     "execution_count": 7,
     "metadata": {},
     "output_type": "execute_result"
    }
   ],
   "source": [
    "data"
   ],
   "metadata": {
    "collapsed": false,
    "ExecuteTime": {
     "end_time": "2025-04-29T07:13:23.967780Z",
     "start_time": "2025-04-29T07:13:23.951802Z"
    }
   },
   "id": "4dde5d7dbcf11790",
   "execution_count": 7
  },
  {
   "cell_type": "code",
   "execution_count": 8,
   "id": "f2fff455",
   "metadata": {
    "ExecuteTime": {
     "end_time": "2025-04-29T07:13:24.495100Z",
     "start_time": "2025-04-29T07:13:24.169710Z"
    }
   },
   "outputs": [],
   "source": [
    "data['age_at_gp_in_days'] = abs(data['dob']-data['date'])\n",
    "data['age_at_gp_in_days'] = data['age_at_gp_in_days'].apply(lambda x: str(x).split(' ')[0]).astype(int)\n",
    "\n",
    "first_race_dates = data.groupby('driverId')['date'].min().reset_index()\n",
    "first_race_dates.rename(columns={'date': 'first_race_date'}, inplace=True)\n",
    "data = data.merge(first_race_dates, on='driverId', how='left')\n",
    "data = data.drop(['driverId'],axis=1)\n",
    "\n",
    "data['days_since_first_race'] = abs(data['first_race_date']-data['date'])\n",
    "data['days_since_first_race'] = data['days_since_first_race'].apply(lambda x: str(x).split(' ')[0]).astype(int)"
   ]
  },
  {
   "cell_type": "code",
   "execution_count": 9,
   "id": "0a966ef9",
   "metadata": {
    "ExecuteTime": {
     "end_time": "2025-04-29T07:13:27.094363Z",
     "start_time": "2025-04-29T07:13:27.086457Z"
    }
   },
   "outputs": [],
   "source": [
    "#select all data from 1980\n",
    "data = data[data['year']>=1980]\n",
    "#get first nationality only\n"
   ]
  },
  {
   "cell_type": "code",
   "execution_count": 10,
   "id": "4d7deab9",
   "metadata": {
    "ExecuteTime": {
     "end_time": "2025-04-29T07:13:27.923590Z",
     "start_time": "2025-04-29T07:13:27.918587Z"
    }
   },
   "outputs": [
    {
     "name": "stdout",
     "output_type": "stream",
     "text": [
      "Index(['year', 'date', 'q1', 'q2', 'q3', 'dob', 'driver_nationality',\n",
      "       'constructor', 'constructor_nationality', 'circuit', 'country_circuit',\n",
      "       'type_circuit', 'driver', 'age_at_gp_in_days', 'first_race_date',\n",
      "       'days_since_first_race'],\n",
      "      dtype='object')\n"
     ]
    }
   ],
   "source": [
    "print(data.columns)"
   ]
  },
  {
   "cell_type": "code",
   "execution_count": 11,
   "id": "4d168564",
   "metadata": {
    "ExecuteTime": {
     "end_time": "2025-04-29T07:13:28.428276Z",
     "start_time": "2025-04-29T07:13:28.423095Z"
    }
   },
   "outputs": [
    {
     "name": "stdout",
     "output_type": "stream",
     "text": [
      "All Constructors:\n",
      "['Williams' 'Brabham' 'Fittipaldi' 'Tyrrell' 'Alfa Romeo' 'McLaren'\n",
      " 'Ferrari' 'Ensign' 'Ligier' 'Arrows' 'ATS' 'Team Lotus' 'Renault'\n",
      " 'Shadow' 'Osella' 'Theodore' 'March' 'Toleman' 'RAM' 'Spirit' 'Minardi'\n",
      " 'Zakspeed' 'Lola' 'Benetton' 'AGS' 'Larrousse' 'Coloni' 'Rial'\n",
      " 'Euro Brun' 'Dallara' 'Onyx' 'Leyton House' 'Life' 'Lambo' 'Jordan'\n",
      " 'Footwork' 'Fondmetal' 'Andrea Moda' 'Sauber' 'Simtek' 'Pacific' 'Forti'\n",
      " 'Prost' 'Stewart' 'BAR' 'Jaguar' 'Toyota' 'Red Bull' 'Honda' 'Toro Rosso'\n",
      " 'BMW Sauber' 'MF1' 'Super Aguri' 'Spyker MF1' 'Spyker' 'Force India'\n",
      " 'Brawn' 'Mercedes' 'Lotus' 'HRT' 'Virgin' 'Lotus F1' 'Marussia'\n",
      " 'Caterham' 'Manor Marussia' 'Haas F1 Team' 'Racing Point' 'AlphaTauri'\n",
      " 'Aston Martin' 'Alpine F1 Team' 'RB F1 Team']\n"
     ]
    }
   ],
   "source": [
    "#get all unique constructors\n",
    "constructors = data['constructor'].unique()\n",
    "print('All Constructors:')\n",
    "print(constructors)"
   ]
  },
  {
   "cell_type": "code",
   "execution_count": 12,
   "id": "01d94f9c",
   "metadata": {
    "ExecuteTime": {
     "end_time": "2025-04-29T07:13:29.226086Z",
     "start_time": "2025-04-29T07:13:29.198306Z"
    }
   },
   "outputs": [],
   "source": [
    "#Some of the constructors changed their name over the year so replacing old names with current name\n",
    "data['constructor'] = data['constructor'].apply(lambda x: 'Racing Point' if x=='Force India' else x)\n",
    "data['constructor'] = data['constructor'].apply(lambda x: 'Racing Point' if x=='Aston Martin' else x)\n",
    "data['constructor'] = data['constructor'].apply(lambda x: 'Alfa Romeo' if x=='Sauber' else x)\n",
    "data['constructor'] = data['constructor'].apply(lambda x: 'Alfa Romeo' if x=='BMW Sauber' else x)\n",
    "data['constructor'] = data['constructor'].apply(lambda x: 'Renault' if x=='Lotus F1' else x)\n",
    "data['constructor'] = data['constructor'].apply(lambda x: 'Renault' if x=='Alpine F1 Team' else x)\n",
    "data['constructor'] = data['constructor'].apply(lambda x: 'AlphaTauri' if x=='Toro Rosso' else x)\n",
    "data['constructor'] = data['constructor'].apply(lambda x: 'AlphaTauri' if x=='RB F1 Team' else x)"
   ]
  },
  {
   "cell_type": "code",
   "execution_count": 13,
   "id": "dbce8c6f",
   "metadata": {
    "ExecuteTime": {
     "end_time": "2025-04-29T07:13:29.499336Z",
     "start_time": "2025-04-29T07:13:29.493329Z"
    }
   },
   "outputs": [
    {
     "data": {
      "text/plain": "array(['British', 'Brazilian', 'Swiss', 'Italian', 'French', 'Hong Kong',\n       'German', 'Irish', 'Japanese', 'Austrian', 'Russian', 'Dutch',\n       'Indian', 'Malaysian', 'Spanish', 'American'], dtype=object)"
     },
     "execution_count": 13,
     "metadata": {},
     "output_type": "execute_result"
    }
   ],
   "source": [
    "data['constructor_nationality'].unique()\n"
   ]
  },
  {
   "cell_type": "code",
   "execution_count": 14,
   "id": "b9d0151a",
   "metadata": {
    "ExecuteTime": {
     "end_time": "2025-04-29T07:13:29.954587Z",
     "start_time": "2025-04-29T07:13:29.946233Z"
    }
   },
   "outputs": [],
   "source": [
    "#clean data\n",
    "data['driver_nationality'] = data['driver_nationality'].replace('Argentinian', 'Argentine')\n",
    "data['country_circuit'] = data['country_circuit'].replace('United States', 'USA')"
   ]
  },
  {
   "cell_type": "code",
   "execution_count": 15,
   "id": "62c80bf0",
   "metadata": {
    "ExecuteTime": {
     "end_time": "2025-04-29T07:13:32.955061Z",
     "start_time": "2025-04-29T07:13:32.935944Z"
    }
   },
   "outputs": [],
   "source": [
    "#for country circuit\n",
    "\n",
    "#Change all \"Argentinian\" to \"Argentine\"\n",
    "data_tmp = data.copy()\n",
    "\n",
    "#get first nationality only\n",
    "df_countries = countries.copy()\n",
    "df_countries['nationality'] = df_countries['nationality'].apply(lambda x: x.split(',')[0].strip())\n",
    "df_countries['en_short_name'] = df_countries['en_short_name'].apply(lambda x: x.split(',')[0].strip())\n",
    "df_countries['en_short_name'] = df_countries['en_short_name'].apply(lambda x: 'UK' if x=='United Kingdom of Great Britain and Northern Ireland' else x)\n",
    "df_countries['en_short_name'] = df_countries['en_short_name'].apply(lambda x: 'UAE' if x=='United Arab Emirates' else x)\n",
    "df_countries['en_short_name'] = df_countries['en_short_name'].apply(lambda x: 'Korea' if x=='Korea (Republic of)' else x)\n",
    "df_countries['en_short_name'] = df_countries['en_short_name'].apply(lambda x: 'Russia' if x=='Russian Federation' else x)\n",
    "df_countries['en_short_name'] = df_countries['en_short_name'].apply(lambda x: 'USA' if x=='United States of America' else x)\n",
    "\n",
    "#drop rows with duplicate nationality\n",
    "df_countries = df_countries[df_countries['en_short_name'] != 'Taiwan']\n",
    "df_countries = df_countries[df_countries['en_short_name'] != 'United States Minor Outlying Islands']\n",
    "\n",
    "\n",
    "data_with_circuit_nationality = data_tmp.merge(\n",
    "    df_countries,\n",
    "    how='left',\n",
    "    left_on='country_circuit', \n",
    "    right_on='en_short_name'  \n",
    ")\n",
    "\n",
    "#en_short_name\n",
    "\n",
    "data_with_circuit_nationality=data_with_circuit_nationality.drop(['country_circuit', 'num_code', 'alpha_2_code', 'en_short_name', 'nationality'], axis=1)\n",
    "data_with_circuit_nationality.rename(columns={'alpha_3_code':'circuit_nationality'}, inplace=True)\n"
   ]
  },
  {
   "cell_type": "code",
   "execution_count": 16,
   "id": "cf97b79c",
   "metadata": {
    "ExecuteTime": {
     "end_time": "2025-04-29T07:13:34.174491Z",
     "start_time": "2025-04-29T07:13:34.157628Z"
    }
   },
   "outputs": [],
   "source": [
    "data_tmp = data_with_circuit_nationality.copy()\n",
    "\n",
    "data_with_driver_nationality = data_tmp.merge(\n",
    "    df_countries,\n",
    "    how='left',\n",
    "    left_on='driver_nationality', \n",
    "    right_on='nationality'  \n",
    ")\n",
    "\n",
    "data_with_driver_nationality=data_with_driver_nationality.drop(['driver_nationality', 'num_code', 'alpha_2_code', 'en_short_name', 'nationality'], axis=1)\n",
    "data_with_driver_nationality.rename(columns={'alpha_3_code':'driver_nationality'}, inplace=True)\n",
    "\n"
   ]
  },
  {
   "cell_type": "code",
   "execution_count": 17,
   "id": "bc44e93d",
   "metadata": {
    "ExecuteTime": {
     "end_time": "2025-04-29T07:13:36.555955Z",
     "start_time": "2025-04-29T07:13:36.540253Z"
    }
   },
   "outputs": [],
   "source": [
    "data_tmp = data_with_driver_nationality.copy()\n",
    "\n",
    "data_with_constructor_nationality = data_tmp.merge(\n",
    "    df_countries,\n",
    "    how='left',\n",
    "    left_on='constructor_nationality', \n",
    "    right_on='nationality'  \n",
    ")\n",
    "data_with_constructor_nationality=data_with_constructor_nationality.drop(['constructor_nationality', 'num_code', 'alpha_2_code', 'en_short_name', 'nationality'], axis=1)\n",
    "data_with_constructor_nationality.rename(columns={'alpha_3_code':'constructor_nationality'}, inplace=True)\n"
   ]
  },
  {
   "cell_type": "code",
   "execution_count": 18,
   "id": "931d6373",
   "metadata": {
    "ExecuteTime": {
     "end_time": "2025-04-29T07:13:37.007256Z",
     "start_time": "2025-04-29T07:13:36.987085Z"
    }
   },
   "outputs": [],
   "source": [
    "#data after processing nationalities\n",
    "data = data_with_constructor_nationality;\n",
    "data['driver_home'] = data['driver_nationality'] == data['circuit_nationality']\n",
    "data['constructor_home'] = data['constructor_nationality'] == data['circuit_nationality']\n",
    "data['driver_home'] = data['driver_home'].apply(lambda x: int(x))\n",
    "data['constructor_home'] = data['constructor_home'].apply(lambda x: int(x))\n"
   ]
  },
  {
   "cell_type": "code",
   "execution_count": 21,
   "id": "483f8a58",
   "metadata": {
    "ExecuteTime": {
     "end_time": "2025-04-29T07:14:19.161591Z",
     "start_time": "2025-04-29T07:14:18.983359Z"
    }
   },
   "outputs": [
    {
     "data": {
      "text/plain": "       year       date        dob   constructor                     circuit  \\\n6474   1994 1994-03-27 1969-01-03      Benetton  Autódromo José Carlos Pace   \n6475   1994 1994-03-27 1960-09-17      Williams  Autódromo José Carlos Pace   \n6476   1994 1994-03-27 1964-06-11       Ferrari  Autódromo José Carlos Pace   \n6477   1994 1994-03-27 1972-05-23        Jordan  Autódromo José Carlos Pace   \n6478   1994 1994-03-27 1963-05-29       Tyrrell  Autódromo José Carlos Pace   \n...     ...        ...        ...           ...                         ...   \n18827  2024 2024-12-08 1992-10-05  Haas F1 Team          Yas Marina Circuit   \n18828  2024 2024-12-08 2002-02-11    AlphaTauri          Yas Marina Circuit   \n18829  2024 2024-12-08 1989-08-28    Alfa Romeo          Yas Marina Circuit   \n18830  2024 2024-12-08 2003-05-27      Williams          Yas Marina Circuit   \n18831  2024 2024-12-08 1990-01-26      Red Bull          Yas Marina Circuit   \n\n       type_circuit              driver  age_at_gp_in_days first_race_date  \\\n6474   Race circuit  Michael Schumacher               9214      1991-08-25   \n6475   Race circuit          Damon Hill              12244      1992-05-03   \n6476   Race circuit          Jean Alesi              10881      1989-07-09   \n6477   Race circuit  Rubens Barrichello               7978      1993-03-14   \n6478   Race circuit       Ukyo Katayama              11260      1992-03-01   \n...             ...                 ...                ...             ...   \n18827  Race circuit     Kevin Magnussen              11752      2014-03-16   \n18828  Race circuit         Liam Lawson               8336      2023-08-27   \n18829  Race circuit     Valtteri Bottas              12886      2013-03-17   \n18830  Race circuit    Franco Colapinto               7866      2024-09-01   \n18831  Race circuit        Sergio Pérez              12735      2011-03-27   \n\n       days_since_first_race circuit_nationality driver_nationality  \\\n6474                     945                 BRA                DEU   \n6475                     693                 BRA                GBR   \n6476                    1722                 BRA                FRA   \n6477                     378                 BRA                BRA   \n6478                     756                 BRA                JPN   \n...                      ...                 ...                ...   \n18827                   3920                 ARE                DNK   \n18828                    469                 ARE                NZL   \n18829                   4284                 ARE                FIN   \n18830                     98                 ARE                ARG   \n18831                   5005                 ARE                MEX   \n\n      constructor_nationality  driver_home  constructor_home  \\\n6474                      ITA            0                 0   \n6475                      GBR            0                 0   \n6476                      ITA            0                 0   \n6477                      IRL            1                 0   \n6478                      GBR            0                 0   \n...                       ...          ...               ...   \n18827                     USA            0                 0   \n18828                     ITA            0                 0   \n18829                     CHE            0                 0   \n18830                     GBR            0                 0   \n18831                     AUT            0                 0   \n\n       milliseconds_qualification  \n6474                     76290.00  \n6475                     77554.00  \n6476                     77385.00  \n6477                     78414.00  \n6478                     78194.00  \n...                           ...  \n18827                    83877.00  \n18828                    83733.00  \n18829                    83481.00  \n18830                    83912.00  \n18831                    83559.00  \n\n[10328 rows x 16 columns]",
      "text/html": "<div>\n<style scoped>\n    .dataframe tbody tr th:only-of-type {\n        vertical-align: middle;\n    }\n\n    .dataframe tbody tr th {\n        vertical-align: top;\n    }\n\n    .dataframe thead th {\n        text-align: right;\n    }\n</style>\n<table border=\"1\" class=\"dataframe\">\n  <thead>\n    <tr style=\"text-align: right;\">\n      <th></th>\n      <th>year</th>\n      <th>date</th>\n      <th>dob</th>\n      <th>constructor</th>\n      <th>circuit</th>\n      <th>type_circuit</th>\n      <th>driver</th>\n      <th>age_at_gp_in_days</th>\n      <th>first_race_date</th>\n      <th>days_since_first_race</th>\n      <th>circuit_nationality</th>\n      <th>driver_nationality</th>\n      <th>constructor_nationality</th>\n      <th>driver_home</th>\n      <th>constructor_home</th>\n      <th>milliseconds_qualification</th>\n    </tr>\n  </thead>\n  <tbody>\n    <tr>\n      <th>6474</th>\n      <td>1994</td>\n      <td>1994-03-27</td>\n      <td>1969-01-03</td>\n      <td>Benetton</td>\n      <td>Autódromo José Carlos Pace</td>\n      <td>Race circuit</td>\n      <td>Michael Schumacher</td>\n      <td>9214</td>\n      <td>1991-08-25</td>\n      <td>945</td>\n      <td>BRA</td>\n      <td>DEU</td>\n      <td>ITA</td>\n      <td>0</td>\n      <td>0</td>\n      <td>76290.00</td>\n    </tr>\n    <tr>\n      <th>6475</th>\n      <td>1994</td>\n      <td>1994-03-27</td>\n      <td>1960-09-17</td>\n      <td>Williams</td>\n      <td>Autódromo José Carlos Pace</td>\n      <td>Race circuit</td>\n      <td>Damon Hill</td>\n      <td>12244</td>\n      <td>1992-05-03</td>\n      <td>693</td>\n      <td>BRA</td>\n      <td>GBR</td>\n      <td>GBR</td>\n      <td>0</td>\n      <td>0</td>\n      <td>77554.00</td>\n    </tr>\n    <tr>\n      <th>6476</th>\n      <td>1994</td>\n      <td>1994-03-27</td>\n      <td>1964-06-11</td>\n      <td>Ferrari</td>\n      <td>Autódromo José Carlos Pace</td>\n      <td>Race circuit</td>\n      <td>Jean Alesi</td>\n      <td>10881</td>\n      <td>1989-07-09</td>\n      <td>1722</td>\n      <td>BRA</td>\n      <td>FRA</td>\n      <td>ITA</td>\n      <td>0</td>\n      <td>0</td>\n      <td>77385.00</td>\n    </tr>\n    <tr>\n      <th>6477</th>\n      <td>1994</td>\n      <td>1994-03-27</td>\n      <td>1972-05-23</td>\n      <td>Jordan</td>\n      <td>Autódromo José Carlos Pace</td>\n      <td>Race circuit</td>\n      <td>Rubens Barrichello</td>\n      <td>7978</td>\n      <td>1993-03-14</td>\n      <td>378</td>\n      <td>BRA</td>\n      <td>BRA</td>\n      <td>IRL</td>\n      <td>1</td>\n      <td>0</td>\n      <td>78414.00</td>\n    </tr>\n    <tr>\n      <th>6478</th>\n      <td>1994</td>\n      <td>1994-03-27</td>\n      <td>1963-05-29</td>\n      <td>Tyrrell</td>\n      <td>Autódromo José Carlos Pace</td>\n      <td>Race circuit</td>\n      <td>Ukyo Katayama</td>\n      <td>11260</td>\n      <td>1992-03-01</td>\n      <td>756</td>\n      <td>BRA</td>\n      <td>JPN</td>\n      <td>GBR</td>\n      <td>0</td>\n      <td>0</td>\n      <td>78194.00</td>\n    </tr>\n    <tr>\n      <th>...</th>\n      <td>...</td>\n      <td>...</td>\n      <td>...</td>\n      <td>...</td>\n      <td>...</td>\n      <td>...</td>\n      <td>...</td>\n      <td>...</td>\n      <td>...</td>\n      <td>...</td>\n      <td>...</td>\n      <td>...</td>\n      <td>...</td>\n      <td>...</td>\n      <td>...</td>\n      <td>...</td>\n    </tr>\n    <tr>\n      <th>18827</th>\n      <td>2024</td>\n      <td>2024-12-08</td>\n      <td>1992-10-05</td>\n      <td>Haas F1 Team</td>\n      <td>Yas Marina Circuit</td>\n      <td>Race circuit</td>\n      <td>Kevin Magnussen</td>\n      <td>11752</td>\n      <td>2014-03-16</td>\n      <td>3920</td>\n      <td>ARE</td>\n      <td>DNK</td>\n      <td>USA</td>\n      <td>0</td>\n      <td>0</td>\n      <td>83877.00</td>\n    </tr>\n    <tr>\n      <th>18828</th>\n      <td>2024</td>\n      <td>2024-12-08</td>\n      <td>2002-02-11</td>\n      <td>AlphaTauri</td>\n      <td>Yas Marina Circuit</td>\n      <td>Race circuit</td>\n      <td>Liam Lawson</td>\n      <td>8336</td>\n      <td>2023-08-27</td>\n      <td>469</td>\n      <td>ARE</td>\n      <td>NZL</td>\n      <td>ITA</td>\n      <td>0</td>\n      <td>0</td>\n      <td>83733.00</td>\n    </tr>\n    <tr>\n      <th>18829</th>\n      <td>2024</td>\n      <td>2024-12-08</td>\n      <td>1989-08-28</td>\n      <td>Alfa Romeo</td>\n      <td>Yas Marina Circuit</td>\n      <td>Race circuit</td>\n      <td>Valtteri Bottas</td>\n      <td>12886</td>\n      <td>2013-03-17</td>\n      <td>4284</td>\n      <td>ARE</td>\n      <td>FIN</td>\n      <td>CHE</td>\n      <td>0</td>\n      <td>0</td>\n      <td>83481.00</td>\n    </tr>\n    <tr>\n      <th>18830</th>\n      <td>2024</td>\n      <td>2024-12-08</td>\n      <td>2003-05-27</td>\n      <td>Williams</td>\n      <td>Yas Marina Circuit</td>\n      <td>Race circuit</td>\n      <td>Franco Colapinto</td>\n      <td>7866</td>\n      <td>2024-09-01</td>\n      <td>98</td>\n      <td>ARE</td>\n      <td>ARG</td>\n      <td>GBR</td>\n      <td>0</td>\n      <td>0</td>\n      <td>83912.00</td>\n    </tr>\n    <tr>\n      <th>18831</th>\n      <td>2024</td>\n      <td>2024-12-08</td>\n      <td>1990-01-26</td>\n      <td>Red Bull</td>\n      <td>Yas Marina Circuit</td>\n      <td>Race circuit</td>\n      <td>Sergio Pérez</td>\n      <td>12735</td>\n      <td>2011-03-27</td>\n      <td>5005</td>\n      <td>ARE</td>\n      <td>MEX</td>\n      <td>AUT</td>\n      <td>0</td>\n      <td>0</td>\n      <td>83559.00</td>\n    </tr>\n  </tbody>\n</table>\n<p>10328 rows × 16 columns</p>\n</div>"
     },
     "execution_count": 21,
     "metadata": {},
     "output_type": "execute_result"
    }
   ],
   "source": [
    "data_cleaned_quali_time = data.copy()\n",
    "\n",
    "# Replace invalid values with a default time (e.g., '0:00.000')\n",
    "data_cleaned_quali_time['q1'] = data_cleaned_quali_time['q1'].fillna('0:00.000').replace('/N', '0:00.000')\n",
    "data_cleaned_quali_time['q2'] = data_cleaned_quali_time['q2'].fillna('0:00.000').replace('/N', '0:00.000')\n",
    "data_cleaned_quali_time['q3'] = data_cleaned_quali_time['q3'].fillna('0:00.000').replace('/N', '0:00.000')\n",
    "\n",
    "# Prepend '00:' to convert to hh:mm:ss format\n",
    "data_cleaned_quali_time['q1'] = pd.to_timedelta('00:' + data_cleaned_quali_time['q1'], errors='coerce')\n",
    "data_cleaned_quali_time['q2'] = pd.to_timedelta('00:' + data_cleaned_quali_time['q2'], errors='coerce')\n",
    "data_cleaned_quali_time['q3'] = pd.to_timedelta('00:' + data_cleaned_quali_time['q3'], errors='coerce')\n",
    "\n",
    "#convert q1 q2 q3 to milliseconds\n",
    "data_cleaned_quali_time['q1'] = data_cleaned_quali_time['q1'].dt.total_seconds() * 1000\n",
    "data_cleaned_quali_time['q2'] = data_cleaned_quali_time['q2'].dt.total_seconds() * 1000\n",
    "data_cleaned_quali_time['q3'] = data_cleaned_quali_time['q3'].dt.total_seconds() * 1000\n",
    "\n",
    "data_cleaned_quali_time['q1'] = data_cleaned_quali_time['q1'].fillna(0)\n",
    "data_cleaned_quali_time['q2'] = data_cleaned_quali_time['q2'].fillna(0)\n",
    "data_cleaned_quali_time['q3'] = data_cleaned_quali_time['q3'].fillna(0)\n",
    "#get fastest time out of q1, q2,q3 for each row and set as qualifying time\n",
    "data_cleaned_quali_time['milliseconds_qualification'] = data_cleaned_quali_time[['q1', 'q2', 'q3']].max(axis=1)\n",
    "\n",
    "#drop\n",
    "data_cleaned_quali_time = data_cleaned_quali_time.drop(['q1', 'q2', 'q3'], axis=1)\n",
    "#drop if milliseconds_qualification is 0\n",
    "data_cleaned_quali_time = data_cleaned_quali_time[data_cleaned_quali_time['milliseconds_qualification'] != 0]\n",
    "data_cleaned_quali_time.drop_duplicates(inplace=True)\n",
    "data_cleaned_quali_time\n",
    "\n"
   ]
  },
  {
   "cell_type": "code",
   "outputs": [],
   "source": [
    "#drop where milliseconds_qualification larger than 1000000\n",
    "data_median = data_cleaned_quali_time[data_cleaned_quali_time['milliseconds_qualification'] < 1000000]\n",
    "\n",
    "\n",
    "\n",
    "data_median_qualification = data_median.groupby(['circuit', 'year', 'date'])['milliseconds_qualification'].median().reset_index()\n",
    "#rename col to median_race_duration\n",
    "data_median_qualification.rename(columns={'milliseconds_qualification': 'median_qualification_duration'},inplace=True)\n",
    "\n",
    "#merge with data_median\n",
    "data_median = data_median.merge(data_median_qualification, on=['circuit', 'year', 'date'], how='left')\n",
    "\n",
    "#create column deviation from median and equal to abs of race_duration - median_race_duration\n",
    "data_median['deviation_from_median'] = data_median['milliseconds_qualification'] - data_median['median_qualification_duration']\n",
    "\n",
    "\n",
    "#round all numbers in num columns\n",
    "num_cols = data_median.select_dtypes(include=[np.number]).columns\n",
    "for col in num_cols:\n",
    "    data_median[col] = data_median[col].round()\n",
    "\n",
    "#export to csv\n",
    "data_median.to_csv('data_cleaned_quali_time.csv', index=False)"
   ],
   "metadata": {
    "collapsed": false,
    "ExecuteTime": {
     "end_time": "2025-04-29T07:43:49.581521Z",
     "start_time": "2025-04-29T07:43:49.491736Z"
    }
   },
   "id": "f53d7a206e4abca7",
   "execution_count": 30
  },
  {
   "cell_type": "markdown",
   "id": "90d7fedf",
   "metadata": {},
   "source": [
    "<h3>Testing different models on cleaned qualifying data</h3>"
   ]
  },
  {
   "cell_type": "code",
   "execution_count": 32,
   "id": "e2bc696a",
   "metadata": {
    "ExecuteTime": {
     "end_time": "2025-04-29T07:44:20.940282Z",
     "start_time": "2025-04-29T07:44:20.933282Z"
    }
   },
   "outputs": [
    {
     "data": {
      "text/plain": "year                         int64\nconstructor                 object\ncircuit                     object\ntype_circuit                object\ndriver                      object\nage_at_gp_in_days            int32\ndays_since_first_race        int32\ncircuit_nationality         object\ndriver_nationality          object\nconstructor_nationality     object\ndriver_home                  int64\nconstructor_home             int64\ndeviation_from_median      float64\ndtype: object"
     },
     "execution_count": 32,
     "metadata": {},
     "output_type": "execute_result"
    }
   ],
   "source": [
    "# Drop irrelevant columns\n",
    "columns_to_drop = [ 'dob', 'date', 'first_race_date','median_qualification_duration','milliseconds_qualification']\n",
    "data_quali_time_prepared = data_median.drop(columns=columns_to_drop)\n",
    "\n",
    "data_quali_time_prepared.dtypes"
   ]
  },
  {
   "cell_type": "code",
   "outputs": [],
   "source": [
    "y = data_quali_time_prepared['deviation_from_median']\n",
    "X = data_quali_time_prepared.drop(columns=['deviation_from_median'])\n",
    "X_train, X_test, y_train, y_test = train_test_split(\n",
    "    X, y, test_size=0.2, random_state=42)"
   ],
   "metadata": {
    "collapsed": false,
    "ExecuteTime": {
     "end_time": "2025-04-29T07:44:35.148935Z",
     "start_time": "2025-04-29T07:44:35.138963Z"
    }
   },
   "id": "eceb050ba3754242",
   "execution_count": 33
  },
  {
   "cell_type": "code",
   "outputs": [
    {
     "data": {
      "text/plain": "9031     885.00\n8100     -58.00\n8400     796.00\n828      -96.00\n6964    -276.00\n         ...   \n5734    -296.00\n5191     239.00\n5390   10750.00\n860      667.00\n7270    -666.00\nName: deviation_from_median, Length: 8261, dtype: float64"
     },
     "execution_count": 36,
     "metadata": {},
     "output_type": "execute_result"
    }
   ],
   "source": [
    "y_train"
   ],
   "metadata": {
    "collapsed": false,
    "ExecuteTime": {
     "end_time": "2025-04-29T08:06:20.544803Z",
     "start_time": "2025-04-29T08:06:20.538600Z"
    }
   },
   "id": "133f7d5c08a08c7",
   "execution_count": 36
  },
  {
   "cell_type": "markdown",
   "id": "e0f4546b",
   "metadata": {},
   "source": [
    "<h3> Random forest regressor</h3>"
   ]
  },
  {
   "cell_type": "code",
   "execution_count": 34,
   "id": "d2765981",
   "metadata": {
    "ExecuteTime": {
     "end_time": "2025-04-29T08:05:35.762514Z",
     "start_time": "2025-04-29T07:44:48.354323Z"
    }
   },
   "outputs": [
    {
     "name": "stdout",
     "output_type": "stream",
     "text": [
      "Fitting 5 folds for each of 12 candidates, totalling 60 fits\n",
      "Best Parameters: {'model__max_depth': 30, 'model__min_samples_leaf': 2, 'model__min_samples_split': 15, 'model__n_estimators': 800}\n",
      "Best RMSE: 1579.3020815384461\n",
      "Final Model Performance:\n",
      "MSE: 5374850.65\n",
      "RMSE: 2318.37\n",
      "R2: 0.1528\n",
      "MAE: 761.05\n"
     ]
    }
   ],
   "source": [
    "\n",
    "# Identify column types\n",
    "num_cols = X_train.select_dtypes(exclude='object').columns.tolist()\n",
    "cat_cols = X_train.select_dtypes(include='object').columns.tolist()\n",
    "\n",
    "# Preprocessor: OHE for categorical, StandardScaler for numeric\n",
    "preprocessor = ColumnTransformer([\n",
    "    ('num', StandardScaler(), num_cols),\n",
    "    ('cat', OneHotEncoder(handle_unknown='ignore', sparse_output=False), cat_cols)\n",
    "])\n",
    "\n",
    "# Full pipeline\n",
    "pipeline = Pipeline([\n",
    "    ('preprocessing', preprocessor),\n",
    "    ('model', RandomForestRegressor(random_state=42))\n",
    "])\n",
    "\n",
    "# GridSearchCV parameters (nested under \"model__\")\n",
    "param_grid = {\n",
    "     'model__max_depth': [30],\n",
    "     'model__min_samples_leaf': [2, 3, 4],\n",
    "     'model__min_samples_split': [10, 15],\n",
    "     'model__n_estimators': [600, 800]\n",
    "}\n",
    "\n",
    "#'model__max_depth': 30, 'model__min_samples_leaf': 4, 'model__min_samples_split': 15, 'model__n_estimators': 800\n",
    "# Cross-validation\n",
    "k = 5\n",
    "cv = KFold(n_splits=k, shuffle=True, random_state=42)\n",
    "\n",
    "grid_search = GridSearchCV(estimator=pipeline,\n",
    "                           param_grid=param_grid,\n",
    "                           cv=cv,\n",
    "                           scoring='neg_mean_squared_error',\n",
    "                           verbose=1,\n",
    "                           n_jobs=-1)\n",
    " \n",
    "# Fit\n",
    "grid_search.fit(X_train, y_train)\n",
    "\n",
    "\n",
    "# Best model and performance\n",
    "\n",
    "print(\"Best Parameters:\", grid_search.best_params_)\n",
    "best_rmse = np.sqrt(-grid_search.best_score_)\n",
    "print(\"Best RMSE:\", best_rmse)\n",
    "\n",
    "\n",
    "# Evaluate on training set (optional)\n",
    "\n",
    "best_model_rf = grid_search.best_estimator_\n",
    "y_pred = best_model_rf.predict(X_test)\n",
    "\n",
    "mse = mean_squared_error(y_test, y_pred)\n",
    "rmse = np.sqrt(mse)\n",
    "r2 = r2_score(y_test, y_pred)\n",
    "mae = mean_absolute_error(y_test, y_pred)\n",
    "\n",
    "print(\"Final Model Performance:\")\n",
    "print(f\"MSE: {mse:.2f}\")\n",
    "print(f\"RMSE: {rmse:.2f}\")\n",
    "print(f\"R2: {r2:.4f}\")\n",
    "print(f\"MAE: {mae:.2f}\")\n"
   ]
  },
  {
   "cell_type": "code",
   "execution_count": 37,
   "id": "4baa0b33",
   "metadata": {
    "ExecuteTime": {
     "end_time": "2025-04-29T08:06:28.451332Z",
     "start_time": "2025-04-29T08:06:28.206008Z"
    }
   },
   "outputs": [
    {
     "name": "stderr",
     "output_type": "stream",
     "text": [
      "C:\\Users\\Admin\\AppData\\Local\\Temp\\ipykernel_49416\\1344995424.py:52: FutureWarning: \n",
      "\n",
      "Passing `palette` without assigning `hue` is deprecated and will be removed in v0.14.0. Assign the `y` variable to `hue` and set `legend=False` for the same effect.\n",
      "\n",
      "  sns.barplot(data=grouped_importance, x='Importance', y='Group', palette='viridis')\n"
     ]
    },
    {
     "data": {
      "text/plain": "<Figure size 1200x600 with 1 Axes>",
      "image/png": "[encoded data removed]"
     },
     "metadata": {},
     "output_type": "display_data"
    }
   ],
   "source": [
    "# Get best pipeline from grid search\n",
    "best_pipeline = best_model_rf\n",
    "\n",
    "# Get preprocessor and trained model\n",
    "preprocessor = best_pipeline.named_steps['preprocessing']\n",
    "model = best_pipeline.named_steps['model']\n",
    "\n",
    "# Extract feature names after preprocessing\n",
    "# 1. Numeric feature names (not transformed)\n",
    "num_features = num_cols\n",
    "\n",
    "# 2. Categorical one-hot encoded feature names\n",
    "ohe = preprocessor.named_transformers_['cat']\n",
    "cat_features = ohe.get_feature_names_out(cat_cols)\n",
    "\n",
    "# 3. Combine both\n",
    "feature_names = np.concatenate([num_features, cat_features])\n",
    "\n",
    "# 4. Extract feature importances from the model\n",
    "importances = model.feature_importances_\n",
    "\n",
    "# 5. Create DataFrame for display\n",
    "importances_df = pd.DataFrame({\n",
    "    'Feature': feature_names,\n",
    "    'Importance': importances\n",
    "}).sort_values(by='Importance', ascending=False)\n",
    "\n",
    "# import seaborn as sns\n",
    "# import matplotlib.pyplot as plt\n",
    "\n",
    "\n",
    "# Step 2: Create DataFrame\n",
    "feat_df = pd.DataFrame({\n",
    "    'Feature': feature_names,\n",
    "    'Importance': importances\n",
    "})\n",
    "\n",
    "# Step 3: Extract base feature name for grouping\n",
    "def extract_base_feature(name):\n",
    "    if name in num_features:\n",
    "        return name\n",
    "    else:\n",
    "        return name.split('_')[0]  # e.g., \"circuit_Monaco\" -> \"circuit\"\n",
    "\n",
    "feat_df['Group'] = feat_df['Feature'].apply(extract_base_feature)\n",
    "\n",
    "# Step 4: Aggregate importance by group\n",
    "grouped_importance = feat_df.groupby('Group')['Importance'].sum().sort_values(ascending=False).reset_index()\n",
    "\n",
    "# Step 5: Plot with Seaborn\n",
    "plt.figure(figsize=(12, 6))\n",
    "sns.barplot(data=grouped_importance, x='Importance', y='Group', palette='viridis')\n",
    "\n",
    "plt.title('Grouped Feature Importances')\n",
    "plt.xlabel('Total Importance')\n",
    "plt.ylabel('Feature Group')\n",
    "plt.tight_layout()\n",
    "plt.show()"
   ]
  },
  {
   "cell_type": "code",
   "execution_count": null,
   "id": "34571d3e",
   "metadata": {},
   "outputs": [],
   "source": [
    "# save\n",
    "with open('rf_qualification.pkl','wb') as f:\n",
    "    pickle.dump(best_model_rf,f)\n",
    "\n",
    "# load\n",
    "# with open('model.pkl', 'rb') as f:\n",
    "#     clf2 = pickle.load(f)\n"
   ]
  },
  {
   "cell_type": "markdown",
   "id": "d19735ab",
   "metadata": {},
   "source": [
    "<h5>Gradient boost regressor</h5>"
   ]
  },
  {
   "cell_type": "code",
   "execution_count": null,
   "id": "f13341a7",
   "metadata": {},
   "outputs": [
    {
     "name": "stdout",
     "output_type": "stream",
     "text": [
      "Fitting 5 folds for each of 48 candidates, totalling 240 fits\n",
      "Best Parameters: {'model__learning_rate': 0.1, 'model__loss': 'huber', 'model__max_depth': 5, 'model__min_samples_leaf': 4, 'model__min_samples_split': 5, 'model__n_estimators': 400}\n",
      "Best RMSE: 89.46023855369367\n",
      "Final Model Performance:\n",
      "MSE: 7135.10\n",
      "RMSE: 84.47\n",
      "R2: 0.4016\n",
      "MAE: 25.27\n"
     ]
    }
   ],
   "source": [
    "# Identify column types\n",
    "num_cols = X_train.select_dtypes(exclude='object').columns.tolist()\n",
    "cat_cols = X_train.select_dtypes(include='object').columns.tolist()\n",
    "\n",
    "# Preprocessor: OHE for categorical, StandardScaler for numeric\n",
    "preprocessor = ColumnTransformer([\n",
    "    ('num', StandardScaler(), num_cols),\n",
    "    ('cat', OneHotEncoder(handle_unknown='ignore', sparse_output=False), cat_cols)\n",
    "])\n",
    "\n",
    "# Full pipeline\n",
    "pipeline = Pipeline([\n",
    "    ('preprocessing', preprocessor),\n",
    "    ('model', GradientBoostingRegressor())\n",
    "])\n",
    "\n",
    "# GridSearchCV parameters (nested under \"model__\")\n",
    "param_grid = {\n",
    "    'model__loss': [ 'huber'],\n",
    "    'model__learning_rate': [0.01, 0.1],\n",
    "    'model__n_estimators': [ 300, 400],\n",
    "    'model__min_samples_split': [ 5, 10, 15],\n",
    "    'model__min_samples_leaf': [ 4, 5],\n",
    "    'model__max_depth': [ 4, 5],\n",
    "}\n",
    "\n",
    "# Cross-validation\n",
    "k = 5\n",
    "cv = KFold(n_splits=k, shuffle=True, random_state=42)\n",
    "\n",
    "grid_search = GridSearchCV(estimator=pipeline,\n",
    "                           param_grid=param_grid,\n",
    "                           cv=cv,\n",
    "                           scoring='neg_mean_squared_error',\n",
    "                           verbose=1,\n",
    "                           n_jobs=-1)\n",
    "\n",
    "# Fit\n",
    "grid_search.fit(X_train, y_train)\n",
    "\n",
    "\n",
    "# Best model and performance\n",
    "\n",
    "print(\"Best Parameters:\", grid_search.best_params_)\n",
    "best_rmse = np.sqrt(-grid_search.best_score_)\n",
    "print(\"Best RMSE:\", best_rmse)\n",
    "\n",
    "\n",
    "# Evaluate on training set (optional)\n",
    "\n",
    "best_model_gb = grid_search.best_estimator_\n",
    "y_pred = best_model_gb.predict(X_test)\n",
    "\n",
    "mse = mean_squared_error(y_test, y_pred)\n",
    "rmse = np.sqrt(mse)\n",
    "r2 = r2_score(y_test, y_pred)\n",
    "mae = mean_absolute_error(y_test, y_pred)\n",
    "\n",
    "print(\"Final Model Performance:\")\n",
    "print(f\"MSE: {mse:.2f}\")\n",
    "print(f\"RMSE: {rmse:.2f}\")\n",
    "print(f\"R2: {r2:.4f}\")\n",
    "print(f\"MAE: {mae:.2f}\")\n"
   ]
  },
  {
   "cell_type": "code",
   "execution_count": null,
   "id": "0fa47c0a",
   "metadata": {},
   "outputs": [
    {
     "name": "stderr",
     "output_type": "stream",
     "text": [
      "/tmp/ipykernel_2347/2472914946.py:52: FutureWarning: \n",
      "\n",
      "Passing `palette` without assigning `hue` is deprecated and will be removed in v0.14.0. Assign the `y` variable to `hue` and set `legend=False` for the same effect.\n",
      "\n",
      "  sns.barplot(data=grouped_importance, x='Importance', y='Group', palette='viridis')\n"
     ]
    },
    {
     "data": {
      "image/png": "[encoded data removed]",
      "text/plain": [
       "<Figure size 1200x600 with 1 Axes>"
      ]
     },
     "metadata": {},
     "output_type": "display_data"
    }
   ],
   "source": [
    "# Get best pipeline from grid search\n",
    "best_pipeline = best_model_gb\n",
    "\n",
    "# Get preprocessor and trained model\n",
    "preprocessor = best_pipeline.named_steps['preprocessing']\n",
    "model = best_pipeline.named_steps['model']\n",
    "\n",
    "# Extract feature names after preprocessing\n",
    "# 1. Numeric feature names (not transformed)\n",
    "num_features = num_cols\n",
    "\n",
    "# 2. Categorical one-hot encoded feature names\n",
    "ohe = preprocessor.named_transformers_['cat']\n",
    "cat_features = ohe.get_feature_names_out(cat_cols)\n",
    "\n",
    "# 3. Combine both\n",
    "feature_names = np.concatenate([num_features, cat_features])\n",
    "\n",
    "# 4. Extract feature importances from the model\n",
    "importances = model.feature_importances_\n",
    "\n",
    "# 5. Create DataFrame for display\n",
    "importances_df = pd.DataFrame({\n",
    "    'Feature': feature_names,\n",
    "    'Importance': importances\n",
    "}).sort_values(by='Importance', ascending=False)\n",
    "\n",
    "# import seaborn as sns\n",
    "# import matplotlib.pyplot as plt\n",
    "\n",
    "\n",
    "# Step 2: Create DataFrame\n",
    "feat_df = pd.DataFrame({\n",
    "    'Feature': feature_names,\n",
    "    'Importance': importances\n",
    "})\n",
    "\n",
    "# Step 3: Extract base feature name for grouping\n",
    "def extract_base_feature(name):\n",
    "    if name in num_features:\n",
    "        return name\n",
    "    else:\n",
    "        return name.split('_')[0]  # e.g., \"circuit_Monaco\" -> \"circuit\"\n",
    "\n",
    "feat_df['Group'] = feat_df['Feature'].apply(extract_base_feature)\n",
    "\n",
    "# Step 4: Aggregate importance by group\n",
    "grouped_importance = feat_df.groupby('Group')['Importance'].sum().sort_values(ascending=False).reset_index()\n",
    "\n",
    "# Step 5: Plot with Seaborn\n",
    "plt.figure(figsize=(12, 6))\n",
    "sns.barplot(data=grouped_importance, x='Importance', y='Group', palette='viridis')\n",
    "\n",
    "plt.title('Grouped Feature Importances')\n",
    "plt.xlabel('Total Importance')\n",
    "plt.ylabel('Feature Group')\n",
    "plt.tight_layout()\n",
    "plt.show()"
   ]
  },
  {
   "cell_type": "code",
   "execution_count": null,
   "id": "898b03b4",
   "metadata": {},
   "outputs": [],
   "source": [
    "# save\n",
    "with open('gb_qualification.pkl','wb') as f:\n",
    "    pickle.dump(best_model_gb,f)\n",
    "\n",
    "# load\n",
    "# with open('model.pkl', 'rb') as f:\n",
    "#     clf2 = pickle.load(f)"
   ]
  },
  {
   "cell_type": "markdown",
   "id": "4369d240",
   "metadata": {},
   "source": [
    "<h5>Neural network</h5>"
   ]
  },
  {
   "cell_type": "code",
   "execution_count": 38,
   "id": "074cad90",
   "metadata": {
    "ExecuteTime": {
     "end_time": "2025-04-29T08:07:22.503276Z",
     "start_time": "2025-04-29T08:06:45.671004Z"
    }
   },
   "outputs": [
    {
     "name": "stdout",
     "output_type": "stream",
     "text": [
      "Iteration 1, loss = 1738018.13488610\n",
      "Iteration 2, loss = 1647217.89715101\n",
      "Iteration 3, loss = 1418560.71895521\n",
      "Iteration 4, loss = 1303593.88102360\n",
      "Iteration 5, loss = 1247863.71538929\n",
      "Iteration 6, loss = 1218579.95236604\n",
      "Iteration 7, loss = 1190766.94949114\n",
      "Iteration 8, loss = 1169675.41376971\n",
      "Iteration 9, loss = 1153473.88068330\n",
      "Iteration 10, loss = 1138155.44381216\n",
      "Iteration 11, loss = 1112270.85180313\n",
      "Iteration 12, loss = 1091666.80085642\n",
      "Iteration 13, loss = 1069813.74338375\n",
      "Iteration 14, loss = 1041492.89475140\n",
      "Iteration 15, loss = 1011252.45916147\n",
      "Iteration 16, loss = 976445.40277386\n",
      "Iteration 17, loss = 939831.47317344\n",
      "Iteration 18, loss = 897120.71291791\n",
      "Iteration 19, loss = 859752.98719082\n",
      "Iteration 20, loss = 856455.21288477\n",
      "Iteration 21, loss = 807206.84711903\n",
      "Iteration 22, loss = 810558.61033432\n",
      "Iteration 23, loss = 774616.25975083\n",
      "Iteration 24, loss = 756199.59024385\n",
      "Iteration 25, loss = 738461.82396403\n",
      "Iteration 26, loss = 738764.74796672\n",
      "Iteration 27, loss = 723802.75506476\n",
      "Iteration 28, loss = 706906.45253225\n",
      "Iteration 29, loss = 696396.04348903\n",
      "Iteration 30, loss = 707937.72742562\n",
      "Iteration 31, loss = 680445.55422572\n",
      "Iteration 32, loss = 669903.11639616\n",
      "Iteration 33, loss = 668176.05245825\n",
      "Iteration 34, loss = 655130.53749127\n",
      "Iteration 35, loss = 664245.06892868\n",
      "Iteration 36, loss = 642270.34382933\n",
      "Iteration 37, loss = 627180.92306236\n",
      "Iteration 38, loss = 633662.12353982\n",
      "Iteration 39, loss = 624115.78291393\n",
      "Iteration 40, loss = 612580.33168123\n",
      "Iteration 41, loss = 633524.57551162\n",
      "Iteration 42, loss = 607815.58298750\n",
      "Iteration 43, loss = 595589.56050462\n",
      "Iteration 44, loss = 606262.67580233\n",
      "Iteration 45, loss = 592792.28294845\n",
      "Iteration 46, loss = 599416.09962038\n",
      "Iteration 47, loss = 577345.81061507\n",
      "Iteration 48, loss = 588077.82966215\n",
      "Iteration 49, loss = 572929.19075356\n",
      "Iteration 50, loss = 571683.33689344\n",
      "Iteration 51, loss = 556979.53678221\n",
      "Iteration 52, loss = 562241.09470556\n",
      "Iteration 53, loss = 570332.00152708\n",
      "Iteration 54, loss = 557192.63120862\n",
      "Iteration 55, loss = 556975.84716826\n",
      "Iteration 56, loss = 564349.51706159\n",
      "Iteration 57, loss = 547239.63018916\n",
      "Iteration 58, loss = 547230.15070176\n",
      "Iteration 59, loss = 535926.85373105\n",
      "Iteration 60, loss = 534174.11174581\n",
      "Iteration 61, loss = 530131.93276375\n",
      "Iteration 62, loss = 535994.59538270\n",
      "Iteration 63, loss = 529124.22979381\n",
      "Iteration 64, loss = 522237.93111882\n",
      "Iteration 65, loss = 520173.86505342\n",
      "Iteration 66, loss = 517559.30834523\n",
      "Iteration 67, loss = 509113.33142938\n",
      "Iteration 68, loss = 509202.40577180\n",
      "Iteration 69, loss = 485922.73153874\n",
      "Iteration 70, loss = 514123.38155063\n",
      "Iteration 71, loss = 493937.24810682\n",
      "Iteration 72, loss = 498964.85557581\n",
      "Iteration 73, loss = 496796.65278821\n",
      "Iteration 74, loss = 471308.67678635\n",
      "Iteration 75, loss = 475046.90391207\n",
      "Iteration 76, loss = 479255.93510916\n",
      "Iteration 77, loss = 520407.32273307\n",
      "Iteration 78, loss = 501541.93491387\n",
      "Iteration 79, loss = 455613.95323047\n",
      "Iteration 80, loss = 462819.79673697\n",
      "Iteration 81, loss = 452568.86639398\n",
      "Iteration 82, loss = 449015.57706776\n",
      "Iteration 83, loss = 444073.19863743\n",
      "Iteration 84, loss = 461068.04508797\n",
      "Iteration 85, loss = 480029.67120255\n",
      "Iteration 86, loss = 439163.29227306\n",
      "Iteration 87, loss = 423009.99570909\n",
      "Iteration 88, loss = 408595.53812591\n",
      "Iteration 89, loss = 438315.48302219\n",
      "Iteration 90, loss = 423701.70907143\n",
      "Iteration 91, loss = 408483.40411965\n",
      "Iteration 92, loss = 404651.54273065\n",
      "Iteration 93, loss = 448073.31745953\n",
      "Iteration 94, loss = 430853.30707518\n",
      "Iteration 95, loss = 383286.51156199\n",
      "Iteration 96, loss = 385985.91646083\n",
      "Iteration 97, loss = 410627.23511353\n",
      "Iteration 98, loss = 417692.84114187\n",
      "Iteration 99, loss = 380109.39980698\n",
      "Iteration 100, loss = 398844.84407731\n",
      "Iteration 101, loss = 387225.12030505\n",
      "Iteration 102, loss = 359862.96707395\n",
      "Iteration 103, loss = 350112.36046925\n",
      "Iteration 104, loss = 370470.35061168\n",
      "Iteration 105, loss = 363294.53597456\n",
      "Iteration 106, loss = 382302.44662526\n",
      "Iteration 107, loss = 357076.89526777\n",
      "Iteration 108, loss = 353155.48672380\n",
      "Iteration 109, loss = 351541.98602243\n",
      "Iteration 110, loss = 382983.46069837\n",
      "Iteration 111, loss = 372536.19856434\n",
      "Iteration 112, loss = 346473.67421109\n",
      "Iteration 113, loss = 356793.57947870\n",
      "Iteration 114, loss = 407591.26621893\n",
      "Iteration 115, loss = 387528.11674212\n",
      "Iteration 116, loss = 326315.19961377\n",
      "Iteration 117, loss = 309954.82062567\n",
      "Iteration 118, loss = 291900.53934169\n",
      "Iteration 119, loss = 311730.69218850\n",
      "Iteration 120, loss = 319773.05886481\n",
      "Iteration 121, loss = 323522.70398491\n",
      "Iteration 122, loss = 303781.02213630\n",
      "Iteration 123, loss = 316661.31808750\n",
      "Iteration 124, loss = 297441.39157233\n",
      "Iteration 125, loss = 308540.14907882\n",
      "Iteration 126, loss = 316822.46976974\n",
      "Iteration 127, loss = 288113.32586546\n",
      "Iteration 128, loss = 286310.35632752\n",
      "Iteration 129, loss = 283035.21597304\n",
      "Iteration 130, loss = 287081.29351872\n",
      "Iteration 131, loss = 283081.98198243\n",
      "Iteration 132, loss = 252227.86530629\n",
      "Iteration 133, loss = 265379.70641199\n",
      "Iteration 134, loss = 245224.64531328\n",
      "Iteration 135, loss = 261347.51323681\n",
      "Iteration 136, loss = 293151.28226923\n",
      "Iteration 137, loss = 274756.77908875\n",
      "Iteration 138, loss = 257771.98181893\n",
      "Iteration 139, loss = 238925.71006364\n",
      "Iteration 140, loss = 246700.83665770\n",
      "Iteration 141, loss = 246740.32407325\n",
      "Iteration 142, loss = 251244.04317137\n",
      "Iteration 143, loss = 248088.59809026\n",
      "Iteration 144, loss = 270173.11978327\n",
      "Iteration 145, loss = 241143.02879807\n",
      "Iteration 146, loss = 204488.38285755\n",
      "Iteration 147, loss = 210952.56471879\n",
      "Iteration 148, loss = 218898.02895379\n",
      "Iteration 149, loss = 228961.21450453\n",
      "Iteration 150, loss = 238055.51213862\n",
      "Iteration 151, loss = 215181.24018270\n",
      "Iteration 152, loss = 222846.13240447\n",
      "Iteration 153, loss = 209067.40477128\n",
      "Iteration 154, loss = 203704.67994006\n",
      "Iteration 155, loss = 219831.58741829\n",
      "Iteration 156, loss = 193110.33000125\n",
      "Iteration 157, loss = 188606.61352501\n",
      "Iteration 158, loss = 180158.56715673\n",
      "Iteration 159, loss = 205660.19564576\n",
      "Iteration 160, loss = 217326.66755120\n",
      "Iteration 161, loss = 234373.21633977\n",
      "Iteration 162, loss = 210416.36380070\n",
      "Iteration 163, loss = 230798.12954170\n",
      "Iteration 164, loss = 292188.71869767\n",
      "Iteration 165, loss = 265333.48857918\n",
      "Iteration 166, loss = 246635.10979065\n",
      "Iteration 167, loss = 212077.59976497\n",
      "Iteration 168, loss = 181878.81137707\n",
      "Iteration 169, loss = 196477.95814894\n",
      "Training loss did not improve more than tol=0.000100 for 10 consecutive epochs. Stopping.\n",
      "Final Model Performance:\n",
      "MSE: 6726795.68\n",
      "RMSE: 2593.61\n",
      "R2: -0.0603\n",
      "MAE: 1005.24\n"
     ]
    }
   ],
   "source": [
    "\n",
    "# Identify column types\n",
    "num_cols = X_train.select_dtypes(exclude='object').columns.tolist()\n",
    "cat_cols = X_train.select_dtypes(include='object').columns.tolist()\n",
    "\n",
    "# Preprocessor: OHE for categorical, StandardScaler for numeric\n",
    "preprocessor = ColumnTransformer([\n",
    "    ('num', StandardScaler(), num_cols),\n",
    "    ('cat', OneHotEncoder(handle_unknown='ignore', sparse_output=False), cat_cols)\n",
    "])\n",
    "\n",
    "# Full pipeline\n",
    "pipeline = Pipeline([\n",
    "    ('preprocessing', preprocessor),\n",
    "    ('model', MLPRegressor(random_state=42, hidden_layer_sizes=(100, 100, 100, 100, 100), activation='relu', alpha=0.0001, learning_rate_init=0.001, solver='adam',max_iter=500 , verbose=1))\n",
    "])\n",
    "\n",
    "param_grid = {\n",
    "    'model__hidden_layer_sizes': [ (50, 50), (100, 50)],\n",
    "    'model__activation': ['relu', 'tanh'],\n",
    "    'model__alpha': [0.0001, 0.001, 0.01],\n",
    "    'model__learning_rate_init': [0.001, 0.01],\n",
    "    'model__solver': ['adam'],\n",
    "}\n",
    "# Cross-validation\n",
    "# k = 5\n",
    "# cv = KFold(n_splits=k, shuffle=True, random_state=42)\n",
    "# \n",
    "# grid_search = GridSearchCV(estimator=pipeline,\n",
    "#                            param_grid=param_grid,\n",
    "#                            cv=cv,\n",
    "#                            scoring='neg_mean_squared_error',\n",
    "#                            verbose=1,\n",
    "#                            n_jobs=-1)\n",
    "\n",
    "# grid_search.fit(X, y)\n",
    "\n",
    "\n",
    "\n",
    "# print(\"Best Parameters:\", grid_search.best_params_)\n",
    "# best_rmse = np.sqrt(-grid_search.best_score_)\n",
    "# print(\"Best RMSE:\", best_rmse)\n",
    "\n",
    "\n",
    "# Evaluate on training set (optional)\n",
    "\n",
    "# best_model_nn = grid_search.best_estimator_\n",
    "best_model_nn = pipeline.fit(X_train, y_train)\n",
    "y_pred = best_model_nn.predict(X_test)\n",
    "\n",
    "mse = mean_squared_error(y_test, y_pred)\n",
    "rmse = np.sqrt(mse)\n",
    "r2 = r2_score(y_test, y_pred)\n",
    "mae = mean_absolute_error(y_test, y_pred)\n",
    "\n",
    "print(\"Final Model Performance:\")\n",
    "print(f\"MSE: {mse:.2f}\")\n",
    "print(f\"RMSE: {rmse:.2f}\")\n",
    "print(f\"R2: {r2:.4f}\")\n",
    "print(f\"MAE: {mae:.2f}\")"
   ]
  },
  {
   "cell_type": "code",
   "execution_count": 40,
   "id": "d9717f0a",
   "metadata": {
    "ExecuteTime": {
     "end_time": "2025-04-29T08:07:57.960822Z",
     "start_time": "2025-04-29T08:07:57.955613Z"
    }
   },
   "outputs": [],
   "source": [
    "# save\n",
    "with open('nn_qualification.pkl','wb') as f:\n",
    "    pickle.dump(best_model_nn,f)\n",
    "\n",
    "# load\n",
    "# with open('model.pkl', 'rb') as f:\n",
    "#     clf2 = pickle.load(f)"
   ]
  },
  {
   "cell_type": "code",
   "outputs": [],
   "source": [],
   "metadata": {
    "collapsed": false
   },
   "id": "a7e1e732ed353cc1"
  }
 ],
 "metadata": {
  "kernelspec": {
   "display_name": "base",
   "language": "python",
   "name": "python3"
  },
  "language_info": {
   "codemirror_mode": {
    "name": "ipython",
    "version": 3
   },
   "file_extension": ".py",
   "mimetype": "text/x-python",
   "name": "python",
   "nbconvert_exporter": "python",
   "pygments_lexer": "ipython3",
   "version": "3.12.7"
  }
 },
 "nbformat": 4,
 "nbformat_minor": 5
}
